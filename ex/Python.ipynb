{
  "nbformat": 4,
  "nbformat_minor": 0,
  "metadata": {
    "colab": {
      "provenance": [],
      "collapsed_sections": [
        "trCTRju7MtJq",
        "v_XF5OoPOgtu",
        "D5_QViSrQZnQ",
        "MCjRi4YqQ3PD",
        "ot8u2yf-S1YE",
        "rJJmreLyX3-V"
      ],
      "toc_visible": true
    },
    "kernelspec": {
      "name": "python3",
      "display_name": "Python 3"
    },
    "language_info": {
      "name": "python"
    }
  },
  "cells": [
    {
      "cell_type": "code",
      "execution_count": null,
      "metadata": {
        "colab": {
          "base_uri": "https://localhost:8080/"
        },
        "id": "L21g5dCb-Lcp",
        "outputId": "cc175c14-e788-4623-eab7-ede617ceb299"
      },
      "outputs": [
        {
          "output_type": "execute_result",
          "data": {
            "text/plain": [
              "10"
            ]
          },
          "metadata": {},
          "execution_count": 1
        }
      ],
      "source": [
        "x = 3\n",
        "y = 7\n",
        "x + y"
      ]
    },
    {
      "cell_type": "markdown",
      "source": [
        "#변수"
      ],
      "metadata": {
        "id": "trCTRju7MtJq"
      }
    },
    {
      "cell_type": "code",
      "source": [
        "#변수\n",
        "a = 1                                    #int, 정수\n",
        "b = 10.1                                 #float, 실수형\n",
        "c = '1'                                  #str, 문자열\n",
        "d = 'lee'\n",
        "e = 'hojun'\n",
        "f = True #JavaScript에서는 true입니다.   #bool, 논리형\n",
        "g = [1, 2, 3, 4]                         #list, 리스트\n",
        "h = (1, 2, 3, 4)                         #tuple, 튜플\n",
        "i = {'one' : '하나', 'two' : '둘'}       #dict, 딕셔너리(사전 자료형)\n",
        "j = {1, 2, 3, 3 ,3, 3, 3, 3, 4, 4, 4}    #set, 셋(집합 자료형)"
      ],
      "metadata": {
        "id": "MXTzHzi6GQhU"
      },
      "execution_count": null,
      "outputs": []
    },
    {
      "cell_type": "code",
      "source": [
        "type(a)"
      ],
      "metadata": {
        "colab": {
          "base_uri": "https://localhost:8080/"
        },
        "id": "zm3hdOB4Ldvu",
        "outputId": "71e5f41b-6f0e-427a-c5cc-91f0002960c8"
      },
      "execution_count": null,
      "outputs": [
        {
          "output_type": "execute_result",
          "data": {
            "text/plain": [
              "int"
            ]
          },
          "metadata": {},
          "execution_count": 8
        }
      ]
    },
    {
      "cell_type": "code",
      "source": [
        "a + b"
      ],
      "metadata": {
        "colab": {
          "base_uri": "https://localhost:8080/"
        },
        "id": "9Ga1ZqFbLkS_",
        "outputId": "5c5fd354-8b37-4b74-e227-d6a0dab88900"
      },
      "execution_count": null,
      "outputs": [
        {
          "output_type": "execute_result",
          "data": {
            "text/plain": [
              "11.1"
            ]
          },
          "metadata": {},
          "execution_count": 10
        }
      ]
    },
    {
      "cell_type": "code",
      "source": [
        "c + c + c "
      ],
      "metadata": {
        "colab": {
          "base_uri": "https://localhost:8080/",
          "height": 35
        },
        "id": "SKZV-goqMHac",
        "outputId": "be9bf767-b439-4413-d2b1-c3c759069b06"
      },
      "execution_count": null,
      "outputs": [
        {
          "output_type": "execute_result",
          "data": {
            "text/plain": [
              "'111'"
            ],
            "application/vnd.google.colaboratory.intrinsic+json": {
              "type": "string"
            }
          },
          "metadata": {},
          "execution_count": 12
        }
      ]
    },
    {
      "cell_type": "markdown",
      "source": [
        "#형 변환"
      ],
      "metadata": {
        "id": "kiDhTb_YM8SY"
      }
    },
    {
      "cell_type": "code",
      "source": [
        "#형 변환\n",
        "\n",
        "test = '11'\n",
        "print(int(test) + int(c))\n",
        "print(int(test) + int(c))\n",
        "print(int(test) + int(c))\n",
        "print(int(test) + int(c))\n",
        "print(int(test) + int(c))\n",
        "int(test) + int(test)\n",
        "int(test) + int(test)\n",
        "int(test) + int(test)\n",
        "int(test) + int(test)\n",
        "int(test) + int(test) #마지막 줄만 인식"
      ],
      "metadata": {
        "colab": {
          "base_uri": "https://localhost:8080/"
        },
        "id": "McaWvlMsMfd0",
        "outputId": "bab6d75b-587a-4ee5-a2a6-72547b6f7b1d"
      },
      "execution_count": null,
      "outputs": [
        {
          "output_type": "stream",
          "name": "stdout",
          "text": [
            "12\n",
            "12\n",
            "12\n",
            "12\n",
            "12\n"
          ]
        },
        {
          "output_type": "execute_result",
          "data": {
            "text/plain": [
              "22"
            ]
          },
          "metadata": {},
          "execution_count": 137
        }
      ]
    },
    {
      "cell_type": "code",
      "source": [
        "float(inf) > 10000"
      ],
      "metadata": {
        "colab": {
          "base_uri": "https://localhost:8080/",
          "height": 172
        },
        "id": "VSX-M5AvnJxs",
        "outputId": "486ec55e-86e1-409c-b0b1-9ff5c050e335"
      },
      "execution_count": null,
      "outputs": [
        {
          "output_type": "error",
          "ename": "NameError",
          "evalue": "ignored",
          "traceback": [
            "\u001b[0;31m---------------------------------------------------------------------------\u001b[0m",
            "\u001b[0;31mNameError\u001b[0m                                 Traceback (most recent call last)",
            "\u001b[0;32m<ipython-input-138-7d6f7eb18880>\u001b[0m in \u001b[0;36m<module>\u001b[0;34m\u001b[0m\n\u001b[0;32m----> 1\u001b[0;31m \u001b[0mfloat\u001b[0m\u001b[0;34m(\u001b[0m\u001b[0minf\u001b[0m\u001b[0;34m)\u001b[0m \u001b[0;34m>\u001b[0m \u001b[0;36m10000\u001b[0m\u001b[0;34m\u001b[0m\u001b[0;34m\u001b[0m\u001b[0m\n\u001b[0m",
            "\u001b[0;31mNameError\u001b[0m: name 'inf' is not defined"
          ]
        }
      ]
    },
    {
      "cell_type": "markdown",
      "source": [
        "#set"
      ],
      "metadata": {
        "id": "BtunphbRO67V"
      }
    },
    {
      "cell_type": "code",
      "source": [
        "#set을 사용하여 중복 제거\n",
        "['호준', '길동', '길동', '길동', '길동', '호준']"
      ],
      "metadata": {
        "colab": {
          "base_uri": "https://localhost:8080/"
        },
        "id": "V5vAd1czOjyn",
        "outputId": "0eb394bd-4b7c-4859-b0c0-349eab7c83c1"
      },
      "execution_count": null,
      "outputs": [
        {
          "output_type": "execute_result",
          "data": {
            "text/plain": [
              "['호준', '길동', '길동', '길동', '길동', '호준']"
            ]
          },
          "metadata": {},
          "execution_count": 23
        }
      ]
    },
    {
      "cell_type": "code",
      "source": [
        "set(['호준', '길동', '길동', '길동', '길동', '호준'])"
      ],
      "metadata": {
        "colab": {
          "base_uri": "https://localhost:8080/"
        },
        "id": "8C7mh4U5O2gk",
        "outputId": "33b0fa8f-471e-4fe1-ca2d-023fc7e73df7"
      },
      "execution_count": null,
      "outputs": [
        {
          "output_type": "execute_result",
          "data": {
            "text/plain": [
              "{'길동', '호준'}"
            ]
          },
          "metadata": {},
          "execution_count": 22
        }
      ]
    },
    {
      "cell_type": "code",
      "source": [
        "set('111111111111111122222222222222233333333333333')"
      ],
      "metadata": {
        "colab": {
          "base_uri": "https://localhost:8080/"
        },
        "id": "BRvfRvZ3OuAK",
        "outputId": "6e7b69ac-65f6-4771-ccc0-2d80a66a151b"
      },
      "execution_count": null,
      "outputs": [
        {
          "output_type": "execute_result",
          "data": {
            "text/plain": [
              "{'1', '2', '3'}"
            ]
          },
          "metadata": {},
          "execution_count": 19
        }
      ]
    },
    {
      "cell_type": "markdown",
      "source": [
        "#print"
      ],
      "metadata": {
        "id": "v_XF5OoPOgtu"
      }
    },
    {
      "cell_type": "code",
      "source": [
        "호준 = print\n",
        "호준('hello world')"
      ],
      "metadata": {
        "colab": {
          "base_uri": "https://localhost:8080/"
        },
        "id": "UlnhhV4jNPHU",
        "outputId": "72f65fe8-0032-4543-c165-445d5dcd5ae4"
      },
      "execution_count": null,
      "outputs": [
        {
          "output_type": "stream",
          "name": "stdout",
          "text": [
            "hello world\n"
          ]
        }
      ]
    },
    {
      "cell_type": "code",
      "source": [
        "name = 'hojun'\n",
        "age = 10\n",
        "print('안녕하세요 제 이름은', name, '입니다. 저의 나이는', age, '입니다.') # X\n",
        "print('안녕하세요 제 이름은 {} 입니다. 저의 나이는 {} 입니다.'.format(name, age)) # X\n",
        "print(f'안녕하세요 제 이름은 {name} 입니다. 제 나이는 {age} d입니다') # 요즘 사용"
      ],
      "metadata": {
        "colab": {
          "base_uri": "https://localhost:8080/"
        },
        "id": "t8dMjAXrPEMm",
        "outputId": "23e2ed13-6066-4a68-8417-481d439d6b58"
      },
      "execution_count": null,
      "outputs": [
        {
          "output_type": "stream",
          "name": "stdout",
          "text": [
            "안녕하세요 제 이름은 hojun 입니다. 저의 나이는 10 입니다.\n",
            "안녕하세요 제 이름은 hojun 입니다. 저의 나이는 10 입니다.\n",
            "안녕하세요 제 이름은 hojun 입니다. 제 나이는 10 d입니다\n"
          ]
        }
      ]
    },
    {
      "cell_type": "markdown",
      "source": [
        "#산술 연산"
      ],
      "metadata": {
        "id": "D5_QViSrQZnQ"
      }
    },
    {
      "cell_type": "code",
      "source": [
        "x = 10\n",
        "y = 2\n",
        "print(x + y)\n",
        "print(x - y)\n",
        "print(x * y)\n",
        "print(x / y) #float\n",
        "print(x // y) #int\n",
        "print(x % y)\n",
        "print(x ** y)"
      ],
      "metadata": {
        "colab": {
          "base_uri": "https://localhost:8080/"
        },
        "id": "kxFMs0kTQZLf",
        "outputId": "c5ae509b-84df-47a1-a073-5b4235b6b5e6"
      },
      "execution_count": null,
      "outputs": [
        {
          "output_type": "stream",
          "name": "stdout",
          "text": [
            "12\n",
            "8\n",
            "20\n",
            "5.0\n",
            "5\n",
            "0\n",
            "100\n"
          ]
        }
      ]
    },
    {
      "cell_type": "markdown",
      "source": [
        "#논리연산"
      ],
      "metadata": {
        "id": "MCjRi4YqQ3PD"
      }
    },
    {
      "cell_type": "code",
      "source": [
        "x = True  # 1\n",
        "y = False   # 0\n",
        "\n",
        "#0 이외 다른 숫자는 True\n",
        "\n",
        "#and : 곱\n",
        "#or : 합\n",
        "\n",
        "print(x and y)\n",
        "print(x or y)\n",
        "print(x or x)"
      ],
      "metadata": {
        "colab": {
          "base_uri": "https://localhost:8080/"
        },
        "id": "omgNoEnlQ4pn",
        "outputId": "d401c1dc-632a-4e3d-bad8-6c41061ef480"
      },
      "execution_count": null,
      "outputs": [
        {
          "output_type": "stream",
          "name": "stdout",
          "text": [
            "False\n",
            "True\n",
            "True\n"
          ]
        }
      ]
    },
    {
      "cell_type": "code",
      "source": [
        "for i in range(100):\n",
        "    if i % 3 == 0 and i % 5 == 0:\n",
        "          print(i)"
      ],
      "metadata": {
        "colab": {
          "base_uri": "https://localhost:8080/"
        },
        "id": "qwN-QkvxQoyP",
        "outputId": "11d08682-21ab-46e0-c3f5-84ea91ab30df"
      },
      "execution_count": null,
      "outputs": [
        {
          "output_type": "stream",
          "name": "stdout",
          "text": [
            "0\n",
            "15\n",
            "30\n",
            "45\n",
            "60\n",
            "75\n",
            "90\n"
          ]
        }
      ]
    },
    {
      "cell_type": "code",
      "source": [
        "for i in range(100):\n",
        "    if i % 3 == 0 or i % 5 == 0:\n",
        "          print(i)"
      ],
      "metadata": {
        "colab": {
          "base_uri": "https://localhost:8080/"
        },
        "id": "ef_unS-ESpj9",
        "outputId": "90ad88b4-751b-4b73-d160-bd2dac6b590d"
      },
      "execution_count": null,
      "outputs": [
        {
          "output_type": "stream",
          "name": "stdout",
          "text": [
            "0\n",
            "3\n",
            "5\n",
            "6\n",
            "9\n",
            "10\n",
            "12\n",
            "15\n",
            "18\n",
            "20\n",
            "21\n",
            "24\n",
            "25\n",
            "27\n",
            "30\n",
            "33\n",
            "35\n",
            "36\n",
            "39\n",
            "40\n",
            "42\n",
            "45\n",
            "48\n",
            "50\n",
            "51\n",
            "54\n",
            "55\n",
            "57\n",
            "60\n",
            "63\n",
            "65\n",
            "66\n",
            "69\n",
            "70\n",
            "72\n",
            "75\n",
            "78\n",
            "80\n",
            "81\n",
            "84\n",
            "85\n",
            "87\n",
            "90\n",
            "93\n",
            "95\n",
            "96\n",
            "99\n"
          ]
        }
      ]
    },
    {
      "cell_type": "code",
      "source": [
        "print(not False)\n",
        "print(not True)"
      ],
      "metadata": {
        "colab": {
          "base_uri": "https://localhost:8080/"
        },
        "id": "A2-E2q6QTtfh",
        "outputId": "2101247b-e4ed-4928-d769-3290f1623d4f"
      },
      "execution_count": null,
      "outputs": [
        {
          "output_type": "stream",
          "name": "stdout",
          "text": [
            "True\n",
            "False\n"
          ]
        }
      ]
    },
    {
      "cell_type": "markdown",
      "source": [
        "#비교연산자"
      ],
      "metadata": {
        "id": "ot8u2yf-S1YE"
      }
    },
    {
      "cell_type": "code",
      "source": [
        "x = 3\n",
        "y = 7\n",
        "\n",
        "print(x > y)\n",
        "print(x >= y)\n",
        "print(x < y)\n",
        "print(x <= y)\n",
        "print(x == y)\n",
        "print(x != y) #다르다"
      ],
      "metadata": {
        "colab": {
          "base_uri": "https://localhost:8080/"
        },
        "id": "dsIhthyATCiO",
        "outputId": "020a898c-e14e-4c5f-eece-24a8cdf2333f"
      },
      "execution_count": null,
      "outputs": [
        {
          "output_type": "stream",
          "name": "stdout",
          "text": [
            "False\n",
            "False\n",
            "True\n",
            "True\n",
            "False\n",
            "True\n"
          ]
        }
      ]
    },
    {
      "cell_type": "markdown",
      "source": [
        "#멤버연산자"
      ],
      "metadata": {
        "id": "rJJmreLyX3-V"
      }
    },
    {
      "cell_type": "code",
      "source": [
        "'1' in '123456'"
      ],
      "metadata": {
        "colab": {
          "base_uri": "https://localhost:8080/"
        },
        "id": "TGvFQlPfX6Nz",
        "outputId": "ad23aeb3-5e85-4791-eb02-fbb3977d6d84"
      },
      "execution_count": null,
      "outputs": [
        {
          "output_type": "execute_result",
          "data": {
            "text/plain": [
              "True"
            ]
          },
          "metadata": {},
          "execution_count": 54
        }
      ]
    },
    {
      "cell_type": "code",
      "source": [
        "1 in [1, 2, 3, 4, 5, 6] #멤버연산자"
      ],
      "metadata": {
        "colab": {
          "base_uri": "https://localhost:8080/"
        },
        "id": "dE64TXuEX9Zb",
        "outputId": "6f7720fc-6c12-4dfa-cd3b-c63dda4a6d15"
      },
      "execution_count": null,
      "outputs": [
        {
          "output_type": "execute_result",
          "data": {
            "text/plain": [
              "True"
            ]
          },
          "metadata": {},
          "execution_count": 56
        }
      ]
    },
    {
      "cell_type": "markdown",
      "source": [
        "#식별연산자"
      ],
      "metadata": {
        "id": "uWqfwWfDYHaw"
      }
    },
    {
      "cell_type": "code",
      "source": [
        "x = 3\n",
        "y = 7\n",
        "\n",
        "x is y"
      ],
      "metadata": {
        "colab": {
          "base_uri": "https://localhost:8080/"
        },
        "id": "b1swe3KVYAo6",
        "outputId": "3a2e807f-50f7-4a8b-b083-ce00b8979907"
      },
      "execution_count": null,
      "outputs": [
        {
          "output_type": "execute_result",
          "data": {
            "text/plain": [
              "False"
            ]
          },
          "metadata": {},
          "execution_count": 58
        }
      ]
    },
    {
      "cell_type": "code",
      "source": [
        "x = 3\n",
        "y = 3\n",
        "\n",
        "x is y"
      ],
      "metadata": {
        "colab": {
          "base_uri": "https://localhost:8080/"
        },
        "id": "P7V7KBeTYSdb",
        "outputId": "09b2eb38-138a-4ef2-da1e-d616299e1dde"
      },
      "execution_count": null,
      "outputs": [
        {
          "output_type": "execute_result",
          "data": {
            "text/plain": [
              "True"
            ]
          },
          "metadata": {},
          "execution_count": 60
        }
      ]
    },
    {
      "cell_type": "code",
      "source": [
        "x = 111111\n",
        "y = 111111\n",
        "\n",
        "x is y\n",
        "#id값이 다르기 때문에\n",
        "#-5 ~ 256까지만 같음"
      ],
      "metadata": {
        "colab": {
          "base_uri": "https://localhost:8080/"
        },
        "id": "gVXwovj_YWLC",
        "outputId": "3230fa0f-1caf-4a14-cbfb-d61e32cf7a50"
      },
      "execution_count": null,
      "outputs": [
        {
          "output_type": "execute_result",
          "data": {
            "text/plain": [
              "False"
            ]
          },
          "metadata": {},
          "execution_count": 69
        }
      ]
    },
    {
      "cell_type": "code",
      "source": [
        "id(x)"
      ],
      "metadata": {
        "colab": {
          "base_uri": "https://localhost:8080/"
        },
        "id": "T2Xi_oOcYtQq",
        "outputId": "ee8e0b0c-de9b-4a8f-f8c4-b8a256b20aaf"
      },
      "execution_count": null,
      "outputs": [
        {
          "output_type": "execute_result",
          "data": {
            "text/plain": [
              "140700725873712"
            ]
          },
          "metadata": {},
          "execution_count": 63
        }
      ]
    },
    {
      "cell_type": "code",
      "source": [
        "id(y)"
      ],
      "metadata": {
        "colab": {
          "base_uri": "https://localhost:8080/"
        },
        "id": "zzSj72g7YvfG",
        "outputId": "60da2e4e-031a-4df3-cb37-3989b6cf22f7"
      },
      "execution_count": null,
      "outputs": [
        {
          "output_type": "execute_result",
          "data": {
            "text/plain": [
              "140700725872976"
            ]
          },
          "metadata": {},
          "execution_count": 65
        }
      ]
    },
    {
      "cell_type": "code",
      "source": [
        "x = -5\n",
        "y = -5\n",
        "print(id(x))\n",
        "print(id(y))"
      ],
      "metadata": {
        "colab": {
          "base_uri": "https://localhost:8080/"
        },
        "id": "-ELwPgniYym8",
        "outputId": "dd9717de-7f3e-46e6-a944-4c3d71a2ef55"
      },
      "execution_count": null,
      "outputs": [
        {
          "output_type": "stream",
          "name": "stdout",
          "text": [
            "11255872\n",
            "11255872\n"
          ]
        }
      ]
    },
    {
      "cell_type": "markdown",
      "source": [
        "#리스트\n",
        "\n",
        "*   순서가 있고\n",
        "*   변경이 가능한 자료형\n",
        "\n"
      ],
      "metadata": {
        "id": "IdQ6UJllZi5Z"
      }
    },
    {
      "cell_type": "code",
      "source": [
        "x = [1, 2, 3, 4, 5]\n",
        "x[0] = 1000\n",
        "x"
      ],
      "metadata": {
        "colab": {
          "base_uri": "https://localhost:8080/"
        },
        "id": "h1kv4X_dZloX",
        "outputId": "66d31d06-22dd-415b-fcb1-cb7ec5507923"
      },
      "execution_count": null,
      "outputs": [
        {
          "output_type": "execute_result",
          "data": {
            "text/plain": [
              "[1000, 2, 3, 4, 5]"
            ]
          },
          "metadata": {},
          "execution_count": 76
        }
      ]
    },
    {
      "cell_type": "code",
      "source": [
        "print(type(x))\n",
        "print(dir(x))\n",
        "#'append', 'clear', 'copy', 'count', 'extend', 'index',\n",
        "#'insert', 'pop', 'remove', 'reverse', 'sort'"
      ],
      "metadata": {
        "colab": {
          "base_uri": "https://localhost:8080/"
        },
        "id": "B0sMDsnxZ6l6",
        "outputId": "5341e41e-4083-4d22-e80f-cac9dcd8cbfc"
      },
      "execution_count": null,
      "outputs": [
        {
          "output_type": "stream",
          "name": "stdout",
          "text": [
            "<class 'list'>\n",
            "['__add__', '__class__', '__contains__', '__delattr__', '__delitem__', '__dir__', '__doc__', '__eq__', '__format__', '__ge__', '__getattribute__', '__getitem__', '__gt__', '__hash__', '__iadd__', '__imul__', '__init__', '__init_subclass__', '__iter__', '__le__', '__len__', '__lt__', '__mul__', '__ne__', '__new__', '__reduce__', '__reduce_ex__', '__repr__', '__reversed__', '__rmul__', '__setattr__', '__setitem__', '__sizeof__', '__str__', '__subclasshook__', 'append', 'clear', 'copy', 'count', 'extend', 'index', 'insert', 'pop', 'remove', 'reverse', 'sort']\n"
          ]
        }
      ]
    },
    {
      "cell_type": "code",
      "source": [
        "test = [10, 20, 30, 40, 40, 40, 30, 100]"
      ],
      "metadata": {
        "id": "Mzz9_L3Ka12h"
      },
      "execution_count": null,
      "outputs": []
    },
    {
      "cell_type": "code",
      "source": [
        "test.append(1000)\n",
        "test\n",
        "\n",
        "#append 1000 계속추가"
      ],
      "metadata": {
        "colab": {
          "base_uri": "https://localhost:8080/"
        },
        "id": "nhNMNZTsa5rr",
        "outputId": "805efe10-4f89-42ac-f30c-f8661b813269"
      },
      "execution_count": null,
      "outputs": [
        {
          "output_type": "execute_result",
          "data": {
            "text/plain": [
              "[10, 20, 30, 40, 40, 40, 30, 100, 1000, 1000]"
            ]
          },
          "metadata": {},
          "execution_count": 99
        }
      ]
    },
    {
      "cell_type": "code",
      "source": [
        "jeju = ['바나나', '한라봉']\n",
        "seoul = jeju\n",
        "jeju.append('감귤')\n",
        "seoul"
      ],
      "metadata": {
        "colab": {
          "base_uri": "https://localhost:8080/"
        },
        "id": "Go300rNxbROF",
        "outputId": "4dd62e3b-5ed7-4035-bc5b-0f2c7d7f638e"
      },
      "execution_count": null,
      "outputs": [
        {
          "output_type": "execute_result",
          "data": {
            "text/plain": [
              "['바나나', '한라봉', '감귤']"
            ]
          },
          "metadata": {},
          "execution_count": 90
        }
      ]
    },
    {
      "cell_type": "code",
      "source": [
        "jeju = ['바나나', '한라봉']\n",
        "seoul = jeju.copy()\n",
        "jeju.append('감귤')\n",
        "\n",
        "seoul"
      ],
      "metadata": {
        "colab": {
          "base_uri": "https://localhost:8080/"
        },
        "id": "6BQS7gPJbZE9",
        "outputId": "dfe41e71-1fde-4cb3-9e71-d2e8e2f57830"
      },
      "execution_count": null,
      "outputs": [
        {
          "output_type": "execute_result",
          "data": {
            "text/plain": [
              "['바나나', '한라봉']"
            ]
          },
          "metadata": {},
          "execution_count": 95
        }
      ]
    },
    {
      "cell_type": "code",
      "source": [
        "jeju = ['바나나', '한라봉']\n",
        "seoul = jeju[:]   #슬라이싱\n",
        "jeju.append('감귤')\n",
        "\n",
        "seoul"
      ],
      "metadata": {
        "colab": {
          "base_uri": "https://localhost:8080/"
        },
        "id": "tMt_XpgHbqPa",
        "outputId": "27ca5df3-e8e8-4bae-d369-d7cd46ea5df0"
      },
      "execution_count": null,
      "outputs": [
        {
          "output_type": "execute_result",
          "data": {
            "text/plain": [
              "['바나나', '한라봉']"
            ]
          },
          "metadata": {},
          "execution_count": 97
        }
      ]
    },
    {
      "cell_type": "code",
      "source": [
        "test.count(40)\n",
        "\n",
        "#count는 갯수를 세준다."
      ],
      "metadata": {
        "colab": {
          "base_uri": "https://localhost:8080/"
        },
        "id": "9HxtJr2cbud6",
        "outputId": "bdf01149-7509-4066-de5c-f94a35c7462f"
      },
      "execution_count": null,
      "outputs": [
        {
          "output_type": "execute_result",
          "data": {
            "text/plain": [
              "3"
            ]
          },
          "metadata": {},
          "execution_count": 101
        }
      ]
    },
    {
      "cell_type": "code",
      "source": [
        "#test.append(10,20,30)는 오류가 나지만 test.append([10,20,30])이렇게하면 리스트로 들어간다.\n",
        "\n",
        "test.extend([10, 20, 30])\n",
        "test\n",
        "\n",
        "#이때, 중괄호가 없이 출력될라면 extend를 사용하는것이다."
      ],
      "metadata": {
        "colab": {
          "base_uri": "https://localhost:8080/"
        },
        "id": "N0amhkKib5rd",
        "outputId": "b0ce9c0a-4fec-4fde-ab64-db2ecc78e02b"
      },
      "execution_count": null,
      "outputs": [
        {
          "output_type": "execute_result",
          "data": {
            "text/plain": [
              "[10, 20, 30, 40, 40, 40, 30, 100, 1000, 1000, 10, 20, 30]"
            ]
          },
          "metadata": {},
          "execution_count": 102
        }
      ]
    },
    {
      "cell_type": "code",
      "source": [
        "test.index(100)"
      ],
      "metadata": {
        "colab": {
          "base_uri": "https://localhost:8080/"
        },
        "id": "aRwp24k8cLxB",
        "outputId": "285751ce-76f6-42b0-fca8-e5cb65213513"
      },
      "execution_count": null,
      "outputs": [
        {
          "output_type": "execute_result",
          "data": {
            "text/plain": [
              "7"
            ]
          },
          "metadata": {},
          "execution_count": 106
        }
      ]
    },
    {
      "cell_type": "code",
      "source": [
        "#'insert', 'pop', 'remove', 'reverse', 'sort'"
      ],
      "metadata": {
        "id": "RwN5GS0HdZA4"
      },
      "execution_count": null,
      "outputs": []
    },
    {
      "cell_type": "code",
      "source": [
        "test.insert(2, 100000)"
      ],
      "metadata": {
        "id": "COEbNDWJdaaA"
      },
      "execution_count": null,
      "outputs": []
    },
    {
      "cell_type": "code",
      "source": [
        "test"
      ],
      "metadata": {
        "colab": {
          "base_uri": "https://localhost:8080/"
        },
        "id": "tWbucb1kdngr",
        "outputId": "9a814a38-8e05-4f49-e85d-b7b1ee187b13"
      },
      "execution_count": null,
      "outputs": [
        {
          "output_type": "execute_result",
          "data": {
            "text/plain": [
              "[10, 20, 100000, 100000, 30, 40, 40, 40, 30, 100]"
            ]
          },
          "metadata": {},
          "execution_count": 114
        }
      ]
    },
    {
      "cell_type": "code",
      "source": [
        "x = test.pop()  # 마지막 값을 가지고 나옴"
      ],
      "metadata": {
        "id": "-bw7X5iqdyl8"
      },
      "execution_count": null,
      "outputs": []
    },
    {
      "cell_type": "code",
      "source": [
        "test.pop(0) # 0번 쨰 리스트 사라짐"
      ],
      "metadata": {
        "colab": {
          "base_uri": "https://localhost:8080/"
        },
        "id": "sMOE-Enjd5iD",
        "outputId": "6f1cbfaf-6aa7-44e0-d259-741835a6af4e"
      },
      "execution_count": null,
      "outputs": [
        {
          "output_type": "execute_result",
          "data": {
            "text/plain": [
              "10"
            ]
          },
          "metadata": {},
          "execution_count": 116
        }
      ]
    },
    {
      "cell_type": "code",
      "source": [
        "test"
      ],
      "metadata": {
        "colab": {
          "base_uri": "https://localhost:8080/"
        },
        "id": "1Ri8VMDId-ON",
        "outputId": "d005ab49-c2cb-4720-e3c6-c03197709e70"
      },
      "execution_count": null,
      "outputs": [
        {
          "output_type": "execute_result",
          "data": {
            "text/plain": [
              "[20, 100000, 100000, 30, 40, 40, 40, 30]"
            ]
          },
          "metadata": {},
          "execution_count": 117
        }
      ]
    },
    {
      "cell_type": "code",
      "source": [
        "x"
      ],
      "metadata": {
        "colab": {
          "base_uri": "https://localhost:8080/"
        },
        "id": "FaNGRM0Vd_qK",
        "outputId": "846c8b95-0cc9-4d08-af25-0b38de1aca36"
      },
      "execution_count": null,
      "outputs": [
        {
          "output_type": "execute_result",
          "data": {
            "text/plain": [
              "100"
            ]
          },
          "metadata": {},
          "execution_count": 118
        }
      ]
    },
    {
      "cell_type": "code",
      "source": [
        "while test:\n",
        "    print(test.pop())\n",
        "\n",
        "    #뒤에서부터 계속 pop pop pop한다"
      ],
      "metadata": {
        "colab": {
          "base_uri": "https://localhost:8080/"
        },
        "id": "ulFdMTYFeBrc",
        "outputId": "8413f687-dcab-4392-fdd5-4be0edbfada3"
      },
      "execution_count": null,
      "outputs": [
        {
          "output_type": "stream",
          "name": "stdout",
          "text": [
            "30\n",
            "40\n",
            "40\n",
            "40\n",
            "30\n",
            "100000\n",
            "100000\n",
            "20\n"
          ]
        }
      ]
    },
    {
      "cell_type": "code",
      "source": [
        "test"
      ],
      "metadata": {
        "colab": {
          "base_uri": "https://localhost:8080/"
        },
        "id": "jH5A7RFJeG6r",
        "outputId": "7fceb319-1664-42f1-aafd-82e2665103a2"
      },
      "execution_count": null,
      "outputs": [
        {
          "output_type": "execute_result",
          "data": {
            "text/plain": [
              "[]"
            ]
          },
          "metadata": {},
          "execution_count": 121
        }
      ]
    },
    {
      "cell_type": "code",
      "source": [
        "#지울 때 remove 사용\n",
        "tst = [1, 2, 3, 4]\n",
        "tst.remove(4)\n",
        "tst"
      ],
      "metadata": {
        "colab": {
          "base_uri": "https://localhost:8080/"
        },
        "id": "Ckj0VCbgeiWt",
        "outputId": "7576ec1c-e84a-4495-da0b-81c31c1b8fa3"
      },
      "execution_count": null,
      "outputs": [
        {
          "output_type": "execute_result",
          "data": {
            "text/plain": [
              "[1, 2, 3]"
            ]
          },
          "metadata": {},
          "execution_count": 124
        }
      ]
    },
    {
      "cell_type": "code",
      "source": [
        "#sort 순서 나열\n",
        "test = [1, 6, 5, 3, 8, 5, 6]\n",
        "test.sort() #원본 수정, 원본을 수정하고 싶지 않으면 sorted()를 사용하기\n",
        "test"
      ],
      "metadata": {
        "colab": {
          "base_uri": "https://localhost:8080/"
        },
        "id": "hGUriUu7g3up",
        "outputId": "44348862-04de-4122-929e-079f004cb6a6"
      },
      "execution_count": null,
      "outputs": [
        {
          "output_type": "execute_result",
          "data": {
            "text/plain": [
              "[1, 3, 5, 5, 6, 6, 8]"
            ]
          },
          "metadata": {},
          "execution_count": 125
        }
      ]
    },
    {
      "cell_type": "code",
      "source": [
        "#reverse 순서 나열\n",
        "test = [1, 6, 5, 3, 8, 5, 6]\n",
        "test.reverse() #역 정렬이 아닌 역순 나열, 원본을 수정하고 싶지 않으면 reversed()를 사용하기\n",
        "test"
      ],
      "metadata": {
        "colab": {
          "base_uri": "https://localhost:8080/"
        },
        "id": "FCB3yon7hBvk",
        "outputId": "a6ef8e6c-0eb3-4119-8e31-13eb7ccba542"
      },
      "execution_count": null,
      "outputs": [
        {
          "output_type": "execute_result",
          "data": {
            "text/plain": [
              "[6, 5, 8, 3, 5, 6, 1]"
            ]
          },
          "metadata": {},
          "execution_count": 126
        }
      ]
    },
    {
      "cell_type": "code",
      "source": [
        "test = [1, 6, 5, 3, 8, 5, 6]\n",
        "test.sort(reverse=True)\n",
        "test"
      ],
      "metadata": {
        "colab": {
          "base_uri": "https://localhost:8080/"
        },
        "id": "SdfR2FhvhYjy",
        "outputId": "8e52aeae-9d7c-412d-b824-bf90362fa894"
      },
      "execution_count": null,
      "outputs": [
        {
          "output_type": "execute_result",
          "data": {
            "text/plain": [
              "[8, 6, 6, 5, 5, 3, 1]"
            ]
          },
          "metadata": {},
          "execution_count": 127
        }
      ]
    },
    {
      "cell_type": "code",
      "source": [
        "sorted(test)"
      ],
      "metadata": {
        "colab": {
          "base_uri": "https://localhost:8080/"
        },
        "id": "jMRnK6hPgyO8",
        "outputId": "47d67d76-3e38-4be8-d260-9f9bfacf4cac"
      },
      "execution_count": null,
      "outputs": [
        {
          "output_type": "execute_result",
          "data": {
            "text/plain": [
              "[1, 3, 5, 5, 6, 6, 8]"
            ]
          },
          "metadata": {},
          "execution_count": 128
        }
      ]
    },
    {
      "cell_type": "code",
      "source": [
        "test"
      ],
      "metadata": {
        "colab": {
          "base_uri": "https://localhost:8080/"
        },
        "id": "s3cuCkIVlCC2",
        "outputId": "60eca890-cf0c-463f-b8ea-893714ad3ac8"
      },
      "execution_count": null,
      "outputs": [
        {
          "output_type": "execute_result",
          "data": {
            "text/plain": [
              "[8, 6, 6, 5, 5, 3, 1]"
            ]
          },
          "metadata": {},
          "execution_count": 129
        }
      ]
    },
    {
      "cell_type": "code",
      "source": [
        "def 함수(x):\n",
        "    return x[1]\n",
        "\n",
        "\n",
        "test = [['one' , 5, 100], ['two', 3, 50], ['three', 4, 30]]\n",
        "sorted(test, key = 함수, reverse=True)\n",
        "sorted(test, key = lambda x:x[2], reverse=True)"
      ],
      "metadata": {
        "colab": {
          "base_uri": "https://localhost:8080/"
        },
        "id": "aTN66LEHlDoG",
        "outputId": "06624942-dcbf-49d9-b7b6-7dd562aa5f0a"
      },
      "execution_count": null,
      "outputs": [
        {
          "output_type": "execute_result",
          "data": {
            "text/plain": [
              "[['one', 5, 100], ['two', 3, 50], ['three', 4, 30]]"
            ]
          },
          "metadata": {},
          "execution_count": 134
        }
      ]
    },
    {
      "cell_type": "markdown",
      "source": [
        "#튜플\n",
        "\n",
        "\n",
        "*   순서가 있고\n",
        "*   변경이 불가한 자료형\n",
        "\n"
      ],
      "metadata": {
        "id": "e95ZoyPNmLGZ"
      }
    },
    {
      "cell_type": "code",
      "source": [
        "x = (10, 20, 30)\n",
        "type(x), dir(x)"
      ],
      "metadata": {
        "colab": {
          "base_uri": "https://localhost:8080/"
        },
        "id": "628TPU4FleU7",
        "outputId": "2140841c-8d2e-4bc5-c5a0-242348982571"
      },
      "execution_count": null,
      "outputs": [
        {
          "output_type": "execute_result",
          "data": {
            "text/plain": [
              "(tuple,\n",
              " ['__add__',\n",
              "  '__class__',\n",
              "  '__contains__',\n",
              "  '__delattr__',\n",
              "  '__dir__',\n",
              "  '__doc__',\n",
              "  '__eq__',\n",
              "  '__format__',\n",
              "  '__ge__',\n",
              "  '__getattribute__',\n",
              "  '__getitem__',\n",
              "  '__getnewargs__',\n",
              "  '__gt__',\n",
              "  '__hash__',\n",
              "  '__init__',\n",
              "  '__init_subclass__',\n",
              "  '__iter__',\n",
              "  '__le__',\n",
              "  '__len__',\n",
              "  '__lt__',\n",
              "  '__mul__',\n",
              "  '__ne__',\n",
              "  '__new__',\n",
              "  '__reduce__',\n",
              "  '__reduce_ex__',\n",
              "  '__repr__',\n",
              "  '__rmul__',\n",
              "  '__setattr__',\n",
              "  '__sizeof__',\n",
              "  '__str__',\n",
              "  '__subclasshook__',\n",
              "  'count',\n",
              "  'index'])"
            ]
          },
          "metadata": {},
          "execution_count": 135
        }
      ]
    },
    {
      "cell_type": "code",
      "source": [
        "y = [1, 2, 3]\n",
        "x = (y , 20 ,30)\n",
        "y[0] = 1000\n",
        "x\n",
        "\n",
        "#변경이 불가능한게 아닌 참조가 불가능"
      ],
      "metadata": {
        "colab": {
          "base_uri": "https://localhost:8080/"
        },
        "id": "ea71SBzOmWAN",
        "outputId": "b3f32f81-d5d2-4f6a-8623-74f0685213bc"
      },
      "execution_count": null,
      "outputs": [
        {
          "output_type": "execute_result",
          "data": {
            "text/plain": [
              "([1000, 2, 3], 20, 30)"
            ]
          },
          "metadata": {},
          "execution_count": 136
        }
      ]
    },
    {
      "cell_type": "markdown",
      "source": [
        "#딕셔너리\n",
        "\n",
        "*   key와 value로 이뤄진 자료형\n",
        "*   순서로 호출할 수 없으나 순서를 보장합니다\n",
        "*   다만 콜랩에서는 print 사용하지 않았을 겨우 순서를 보장하지 않음\n",
        "\n",
        "\n",
        "\n"
      ],
      "metadata": {
        "id": "xbkB3YgHm7Sm"
      }
    },
    {
      "cell_type": "code",
      "source": [
        "bool({})\n",
        "bool([])\n",
        "\n",
        "#자바스크립트에서는 True"
      ],
      "metadata": {
        "colab": {
          "base_uri": "https://localhost:8080/"
        },
        "id": "yOsg6W9hm0Le",
        "outputId": "b22b956a-180d-4344-b75e-ed4de198f2c3"
      },
      "execution_count": null,
      "outputs": [
        {
          "output_type": "execute_result",
          "data": {
            "text/plain": [
              "False"
            ]
          },
          "metadata": {},
          "execution_count": 139
        }
      ]
    },
    {
      "cell_type": "code",
      "source": [
        "test = {'one':1, 'two':2}\n",
        "type(test), dir(test)"
      ],
      "metadata": {
        "colab": {
          "base_uri": "https://localhost:8080/"
        },
        "id": "hUgoogFYlauk",
        "outputId": "c99a117b-edd0-4b55-85b6-ac3fe5789be0"
      },
      "execution_count": null,
      "outputs": [
        {
          "output_type": "execute_result",
          "data": {
            "text/plain": [
              "(dict,\n",
              " ['__class__',\n",
              "  '__contains__',\n",
              "  '__delattr__',\n",
              "  '__delitem__',\n",
              "  '__dir__',\n",
              "  '__doc__',\n",
              "  '__eq__',\n",
              "  '__format__',\n",
              "  '__ge__',\n",
              "  '__getattribute__',\n",
              "  '__getitem__',\n",
              "  '__gt__',\n",
              "  '__hash__',\n",
              "  '__init__',\n",
              "  '__init_subclass__',\n",
              "  '__iter__',\n",
              "  '__le__',\n",
              "  '__len__',\n",
              "  '__lt__',\n",
              "  '__ne__',\n",
              "  '__new__',\n",
              "  '__reduce__',\n",
              "  '__reduce_ex__',\n",
              "  '__repr__',\n",
              "  '__setattr__',\n",
              "  '__setitem__',\n",
              "  '__sizeof__',\n",
              "  '__str__',\n",
              "  '__subclasshook__',\n",
              "  'clear',\n",
              "  'copy',\n",
              "  'fromkeys',\n",
              "  'get',\n",
              "  'items',\n",
              "  'keys',\n",
              "  'pop',\n",
              "  'popitem',\n",
              "  'setdefault',\n",
              "  'update',\n",
              "  'values'])"
            ]
          },
          "metadata": {},
          "execution_count": 141
        }
      ]
    },
    {
      "cell_type": "code",
      "source": [
        "#키만 뽑아냄\n",
        "test.keys()"
      ],
      "metadata": {
        "colab": {
          "base_uri": "https://localhost:8080/"
        },
        "id": "XzZwCQlYnrep",
        "outputId": "4c3b9db8-0d20-4cde-a55e-b9caf6922dc2"
      },
      "execution_count": null,
      "outputs": [
        {
          "output_type": "execute_result",
          "data": {
            "text/plain": [
              "dict_keys(['one', 'two'])"
            ]
          },
          "metadata": {},
          "execution_count": 143
        }
      ]
    },
    {
      "cell_type": "code",
      "source": [
        "test.values()"
      ],
      "metadata": {
        "colab": {
          "base_uri": "https://localhost:8080/"
        },
        "id": "qHu5159xnwjd",
        "outputId": "8be78d78-e458-4fcc-f069-27d8810931c6"
      },
      "execution_count": null,
      "outputs": [
        {
          "output_type": "execute_result",
          "data": {
            "text/plain": [
              "dict_values([1, 2])"
            ]
          },
          "metadata": {},
          "execution_count": 144
        }
      ]
    },
    {
      "cell_type": "code",
      "source": [
        "test.items()"
      ],
      "metadata": {
        "colab": {
          "base_uri": "https://localhost:8080/"
        },
        "id": "O_qwZKOPnyvr",
        "outputId": "8726e427-e2aa-47a6-cb99-b739160b835b"
      },
      "execution_count": null,
      "outputs": [
        {
          "output_type": "execute_result",
          "data": {
            "text/plain": [
              "dict_items([('one', 1), ('two', 2)])"
            ]
          },
          "metadata": {},
          "execution_count": 145
        }
      ]
    },
    {
      "cell_type": "code",
      "source": [
        "for i in test:\n",
        "    print(i)"
      ],
      "metadata": {
        "colab": {
          "base_uri": "https://localhost:8080/"
        },
        "id": "PyCfO_unn0Ug",
        "outputId": "1b4be120-a431-4067-ee16-ecdc99b19caa"
      },
      "execution_count": null,
      "outputs": [
        {
          "output_type": "stream",
          "name": "stdout",
          "text": [
            "one\n",
            "two\n"
          ]
        }
      ]
    },
    {
      "cell_type": "code",
      "source": [
        "'one' in test"
      ],
      "metadata": {
        "colab": {
          "base_uri": "https://localhost:8080/"
        },
        "id": "5Z_mcY_OoAci",
        "outputId": "1642cd27-488a-49cf-edab-3a5ee23a7b5b"
      },
      "execution_count": null,
      "outputs": [
        {
          "output_type": "execute_result",
          "data": {
            "text/plain": [
              "True"
            ]
          },
          "metadata": {},
          "execution_count": 148
        }
      ]
    },
    {
      "cell_type": "markdown",
      "source": [
        "#set\n",
        "\n",
        "\n",
        "*   순서로 호출할 수 없다.\n",
        "*   중복을 허락하지 않는 자료형\n",
        "\n"
      ],
      "metadata": {
        "id": "WpneWGSCoZBs"
      }
    },
    {
      "cell_type": "code",
      "source": [
        "{1, 1, 1, 2, 3, 3, 3, 3, 3}"
      ],
      "metadata": {
        "colab": {
          "base_uri": "https://localhost:8080/"
        },
        "id": "jNHdHv-0oNt-",
        "outputId": "10e9055e-36d0-465b-9c22-d23d645a9669"
      },
      "execution_count": null,
      "outputs": [
        {
          "output_type": "execute_result",
          "data": {
            "text/plain": [
              "{1, 2, 3}"
            ]
          },
          "metadata": {},
          "execution_count": 149
        }
      ]
    },
    {
      "cell_type": "code",
      "source": [
        "a = {1, 2, 3}\n",
        "b = {2, 3, 4}\n",
        "a.intersection(b) #교집합\n",
        "a & b"
      ],
      "metadata": {
        "colab": {
          "base_uri": "https://localhost:8080/"
        },
        "id": "pIcZzlOCojVX",
        "outputId": "cd5b789f-b677-4850-83e2-61ef784811b3"
      },
      "execution_count": null,
      "outputs": [
        {
          "output_type": "execute_result",
          "data": {
            "text/plain": [
              "{2, 3}"
            ]
          },
          "metadata": {},
          "execution_count": 154
        }
      ]
    },
    {
      "cell_type": "code",
      "source": [
        "a - b #차집합\n",
        "a.difference(b)"
      ],
      "metadata": {
        "colab": {
          "base_uri": "https://localhost:8080/"
        },
        "id": "CSKgwfEeosin",
        "outputId": "59a75793-b9b2-4a16-f835-5a5cd2bef861"
      },
      "execution_count": null,
      "outputs": [
        {
          "output_type": "execute_result",
          "data": {
            "text/plain": [
              "{1}"
            ]
          },
          "metadata": {},
          "execution_count": 155
        }
      ]
    },
    {
      "cell_type": "code",
      "source": [
        "a.union(b) #합집합\n",
        "a | b"
      ],
      "metadata": {
        "colab": {
          "base_uri": "https://localhost:8080/"
        },
        "id": "1KGjYzSBowDa",
        "outputId": "284a66ba-b115-4e0d-92bf-31750cc713a2"
      },
      "execution_count": null,
      "outputs": [
        {
          "output_type": "execute_result",
          "data": {
            "text/plain": [
              "{1, 2, 3, 4}"
            ]
          },
          "metadata": {},
          "execution_count": 157
        }
      ]
    },
    {
      "cell_type": "markdown",
      "source": [
        "#슬라이싱과 range()"
      ],
      "metadata": {
        "id": "p5NoEtudpd6s"
      }
    },
    {
      "cell_type": "code",
      "source": [
        "s = 'paullab CEO leehojun'\n",
        "print(s.upper()) #대문자로\n",
        "print(s.lower()) #소문자로\n",
        "print(s.split(' ')) #띄어쓰기 기준으로 나눔"
      ],
      "metadata": {
        "colab": {
          "base_uri": "https://localhost:8080/"
        },
        "id": "QUhb_pkYo1VX",
        "outputId": "47c37c28-bb24-40a3-9ca5-dc9b9fc58ddd"
      },
      "execution_count": null,
      "outputs": [
        {
          "output_type": "stream",
          "name": "stdout",
          "text": [
            "PAULLAB CEO LEEHOJUN\n",
            "paullab ceo leehojun\n",
            "['paullab', 'CEO', 'leehojun']\n"
          ]
        }
      ]
    },
    {
      "cell_type": "code",
      "source": [
        "#자료형[start:stop:step]\n",
        "print(s[0:10])\n",
        "print(s[::2])\n",
        "print(s[::-1])\n",
        "print(s[:])  #다른 자료형에 복사 할 때 사용"
      ],
      "metadata": {
        "colab": {
          "base_uri": "https://localhost:8080/"
        },
        "id": "66Tq-jKiow-L",
        "outputId": "dea65264-c1be-450d-9029-8cdf3a1624b2"
      },
      "execution_count": null,
      "outputs": [
        {
          "output_type": "stream",
          "name": "stdout",
          "text": [
            "paullab CE\n",
            "pulbCOleou\n",
            "nujoheel OEC balluap\n",
            "paullab CEO leehojun\n"
          ]
        }
      ]
    },
    {
      "cell_type": "code",
      "source": [
        "[10, 7, 4][::-1] #리스트에서 역순으로 됨"
      ],
      "metadata": {
        "colab": {
          "base_uri": "https://localhost:8080/"
        },
        "id": "v2C0ToE5rANi",
        "outputId": "8e50439d-d71c-4324-f65f-57d070423d8e"
      },
      "execution_count": null,
      "outputs": [
        {
          "output_type": "execute_result",
          "data": {
            "text/plain": [
              "[4, 7, 10]"
            ]
          },
          "metadata": {},
          "execution_count": 161
        }
      ]
    },
    {
      "cell_type": "code",
      "source": [
        "s[2::]"
      ],
      "metadata": {
        "colab": {
          "base_uri": "https://localhost:8080/",
          "height": 35
        },
        "id": "SWtV1aXQrVKr",
        "outputId": "3e74e0b5-317d-4c0a-a88a-449ecf5b8813"
      },
      "execution_count": null,
      "outputs": [
        {
          "output_type": "execute_result",
          "data": {
            "text/plain": [
              "'ullab CEO leehojun'"
            ],
            "application/vnd.google.colaboratory.intrinsic+json": {
              "type": "string"
            }
          },
          "metadata": {},
          "execution_count": 162
        }
      ]
    },
    {
      "cell_type": "code",
      "source": [
        "list(range(10)) #type range"
      ],
      "metadata": {
        "colab": {
          "base_uri": "https://localhost:8080/"
        },
        "id": "3UCeOfcCrYID",
        "outputId": "77f0d3d3-d93e-41fd-9d47-4afdc1043f6e"
      },
      "execution_count": null,
      "outputs": [
        {
          "output_type": "execute_result",
          "data": {
            "text/plain": [
              "[0, 1, 2, 3, 4, 5, 6, 7, 8, 9]"
            ]
          },
          "metadata": {},
          "execution_count": 163
        }
      ]
    },
    {
      "cell_type": "code",
      "source": [
        "type(range(10)), dir(range(10))"
      ],
      "metadata": {
        "colab": {
          "base_uri": "https://localhost:8080/"
        },
        "id": "aa9kMaUvsBQM",
        "outputId": "c2f1a7c2-8634-4af4-d42d-aea27ea074bb"
      },
      "execution_count": null,
      "outputs": [
        {
          "output_type": "execute_result",
          "data": {
            "text/plain": [
              "(range,\n",
              " ['__bool__',\n",
              "  '__class__',\n",
              "  '__contains__',\n",
              "  '__delattr__',\n",
              "  '__dir__',\n",
              "  '__doc__',\n",
              "  '__eq__',\n",
              "  '__format__',\n",
              "  '__ge__',\n",
              "  '__getattribute__',\n",
              "  '__getitem__',\n",
              "  '__gt__',\n",
              "  '__hash__',\n",
              "  '__init__',\n",
              "  '__init_subclass__',\n",
              "  '__iter__',\n",
              "  '__le__',\n",
              "  '__len__',\n",
              "  '__lt__',\n",
              "  '__ne__',\n",
              "  '__new__',\n",
              "  '__reduce__',\n",
              "  '__reduce_ex__',\n",
              "  '__repr__',\n",
              "  '__reversed__',\n",
              "  '__setattr__',\n",
              "  '__sizeof__',\n",
              "  '__str__',\n",
              "  '__subclasshook__',\n",
              "  'count',\n",
              "  'index',\n",
              "  'start',\n",
              "  'step',\n",
              "  'stop'])"
            ]
          },
          "metadata": {},
          "execution_count": 164
        }
      ]
    },
    {
      "cell_type": "code",
      "source": [
        "#리스트를 형변환해서 count할 때 메모리에 안좋음"
      ],
      "metadata": {
        "id": "IPdnFOJFsT8u"
      },
      "execution_count": null,
      "outputs": []
    },
    {
      "cell_type": "code",
      "source": [
        "print(list(range(10)))\n",
        "print(list(range(5, 10)))\n",
        "print(list(range(2, 10, 2)))\n",
        "print(list(range(10, 2, -1)))"
      ],
      "metadata": {
        "colab": {
          "base_uri": "https://localhost:8080/"
        },
        "id": "XN_uZLEXsajO",
        "outputId": "d12d360b-7473-4e79-8cf6-5ed32a0b347d"
      },
      "execution_count": null,
      "outputs": [
        {
          "output_type": "stream",
          "name": "stdout",
          "text": [
            "[0, 1, 2, 3, 4, 5, 6, 7, 8, 9]\n",
            "[5, 6, 7, 8, 9]\n",
            "[2, 4, 6, 8]\n",
            "[10, 9, 8, 7, 6, 5, 4, 3]\n"
          ]
        }
      ]
    },
    {
      "cell_type": "code",
      "source": [
        "range(100).count('8') # X"
      ],
      "metadata": {
        "colab": {
          "base_uri": "https://localhost:8080/"
        },
        "id": "korTOdaxstwA",
        "outputId": "74ae60d5-dc6c-498f-d05f-d7f646cab94f"
      },
      "execution_count": null,
      "outputs": [
        {
          "output_type": "execute_result",
          "data": {
            "text/plain": [
              "0"
            ]
          },
          "metadata": {},
          "execution_count": 169
        }
      ]
    },
    {
      "cell_type": "code",
      "source": [
        "str(list(range(10000))).count('8')"
      ],
      "metadata": {
        "colab": {
          "base_uri": "https://localhost:8080/"
        },
        "id": "VVBUTOHLt9l0",
        "outputId": "44d5ee8f-14b5-4590-bf68-eb87e1f3f76d"
      },
      "execution_count": null,
      "outputs": [
        {
          "output_type": "execute_result",
          "data": {
            "text/plain": [
              "4000"
            ]
          },
          "metadata": {},
          "execution_count": 172
        }
      ]
    },
    {
      "cell_type": "code",
      "source": [
        "s = [1, 3, 4, 8, 13, 17, 20]\n",
        "ss = s[1:]\n",
        "\n",
        "print(s, ss)\n",
        "\n",
        "print(list(zip(s, ss)))\n",
        "\n",
        "sorted(list(zip(s, ss)), key=lambda x:x[1]-x[0])"
      ],
      "metadata": {
        "colab": {
          "base_uri": "https://localhost:8080/"
        },
        "id": "9Z1gZurDuEL9",
        "outputId": "1f604b2c-74bd-478b-8ef1-653846a68f78"
      },
      "execution_count": null,
      "outputs": [
        {
          "output_type": "stream",
          "name": "stdout",
          "text": [
            "[1, 3, 4, 8, 13, 17, 20] [3, 4, 8, 13, 17, 20]\n",
            "[(1, 3), (3, 4), (4, 8), (8, 13), (13, 17), (17, 20)]\n"
          ]
        },
        {
          "output_type": "execute_result",
          "data": {
            "text/plain": [
              "[(3, 4), (1, 3), (17, 20), (4, 8), (13, 17), (8, 13)]"
            ]
          },
          "metadata": {},
          "execution_count": 176
        }
      ]
    },
    {
      "cell_type": "markdown",
      "source": [
        "#반복문과 제어문"
      ],
      "metadata": {
        "id": "bwcrTgFuBKRN"
      }
    },
    {
      "cell_type": "code",
      "source": [
        "# for, while\n",
        "for 변수 in 이터러블한객체 :\n",
        "    print(변수)\n",
        "\n",
        "#인터러블한 객체는 신뢰 가능"
      ],
      "metadata": {
        "id": "9I9v5EooBMnq"
      },
      "execution_count": null,
      "outputs": []
    },
    {
      "cell_type": "code",
      "source": [
        "for i in 'hello world':\n",
        "    print(i)"
      ],
      "metadata": {
        "colab": {
          "base_uri": "https://localhost:8080/"
        },
        "id": "mq0BrogFBmlJ",
        "outputId": "d43e3e77-7762-4fb2-f00d-2cdccf0ad43b"
      },
      "execution_count": null,
      "outputs": [
        {
          "output_type": "stream",
          "name": "stdout",
          "text": [
            "h\n",
            "e\n",
            "l\n",
            "l\n",
            "o\n",
            " \n",
            "w\n",
            "o\n",
            "r\n",
            "l\n",
            "d\n"
          ]
        }
      ]
    },
    {
      "cell_type": "code",
      "source": [
        "for i in [1,2, 3, 4]:  #str, list, tuple, dict, set\n",
        "    print(i)"
      ],
      "metadata": {
        "colab": {
          "base_uri": "https://localhost:8080/"
        },
        "id": "Gw7TEeRLCD5Y",
        "outputId": "a1060eca-8c44-4c66-ac63-9f923068e187"
      },
      "execution_count": null,
      "outputs": [
        {
          "output_type": "stream",
          "name": "stdout",
          "text": [
            "1\n",
            "2\n",
            "3\n",
            "4\n"
          ]
        }
      ]
    },
    {
      "cell_type": "code",
      "source": [
        "for i in range(5, 10):\n",
        "    print(i)"
      ],
      "metadata": {
        "colab": {
          "base_uri": "https://localhost:8080/"
        },
        "id": "u7GjJNaqCUMW",
        "outputId": "cf297be0-4b69-46b0-de4f-558314837def"
      },
      "execution_count": null,
      "outputs": [
        {
          "output_type": "stream",
          "name": "stdout",
          "text": [
            "5\n",
            "6\n",
            "7\n",
            "8\n",
            "9\n"
          ]
        }
      ]
    },
    {
      "cell_type": "code",
      "source": [
        "s = 0\n",
        "for i in range(1, 101):  #시간복잡도 상승\n",
        "    s += i #할당연산\n",
        "s\n",
        "\n",
        "#swithch, s++, ++s 없음"
      ],
      "metadata": {
        "colab": {
          "base_uri": "https://localhost:8080/"
        },
        "id": "rkSBB_1PCOtv",
        "outputId": "1bd72ac9-6efb-45e9-f1cb-b5a1e6ba3b8f"
      },
      "execution_count": null,
      "outputs": [
        {
          "output_type": "execute_result",
          "data": {
            "text/plain": [
              "5050"
            ]
          },
          "metadata": {},
          "execution_count": 18
        }
      ]
    },
    {
      "cell_type": "code",
      "source": [
        "n = 100\n",
        "s = (n * (n + 1)) // 2\n",
        "s\n"
      ],
      "metadata": {
        "colab": {
          "base_uri": "https://localhost:8080/"
        },
        "id": "D7NMT28SC0aG",
        "outputId": "f3fa8a35-5d3b-4d4c-87cf-1580ebd89a17"
      },
      "execution_count": null,
      "outputs": [
        {
          "output_type": "execute_result",
          "data": {
            "text/plain": [
              "5050"
            ]
          },
          "metadata": {},
          "execution_count": 19
        }
      ]
    },
    {
      "cell_type": "code",
      "source": [
        "print('    *    ')\n",
        "print('   ***   ')\n",
        "print('  *****  ')\n",
        "print('    *    ')\n",
        "print('    *    ')"
      ],
      "metadata": {
        "colab": {
          "base_uri": "https://localhost:8080/"
        },
        "id": "ONPnx8GpCxC9",
        "outputId": "61e82a9b-5e06-4f4e-eb58-825b94c3e3da"
      },
      "execution_count": null,
      "outputs": [
        {
          "output_type": "stream",
          "name": "stdout",
          "text": [
            "    *    \n",
            "   ***   \n",
            "  *****  \n",
            "    *    \n",
            "    *    \n"
          ]
        }
      ]
    },
    {
      "cell_type": "code",
      "source": [
        "#python에서 아래 코드로 바로 이어쓰기 : \\ (역슬러쉬, 가독성이 떨어져서 권고하지 않음)\n",
        "#python에서 한 줄 코드는 영문자 79자 이하로 적기를 권고\n",
        "#함수 괄호 안에 콤마, 리스트, 튜플, 딕셔너리, 셋의 콤마는 개행이 가능합니다.\n",
        "\n",
        "print('     *    \\n',\n",
        "'   ***   \\n',\n",
        "'  *****  \\n',\n",
        "'    *    \\n',\n",
        "'    *    \\n')\n",
        "\n",
        "print('''\n",
        "    *    \n",
        "   ***   \n",
        "  *****  \n",
        "    *    \n",
        "    *    \n",
        "    ''')"
      ],
      "metadata": {
        "colab": {
          "base_uri": "https://localhost:8080/"
        },
        "id": "aGTR98a6D6YL",
        "outputId": "538b7993-89ee-4776-c6b8-db3a7f0ebd41"
      },
      "execution_count": null,
      "outputs": [
        {
          "output_type": "stream",
          "name": "stdout",
          "text": [
            "     *    \n",
            "    ***   \n",
            "   *****  \n",
            "     *    \n",
            "     *    \n",
            "\n",
            "\n",
            "     *    \n",
            "   ***   \n",
            "  *****  \n",
            "    *    \n",
            "    *    \n",
            "    \n"
          ]
        }
      ]
    },
    {
      "cell_type": "code",
      "source": [
        "I = [1, 2, 3 ,4]\n",
        "I\n",
        ".append(5) #JavaScript와는 다르게 매서드 채이닝을 할 때 개행을 하면 안된다."
      ],
      "metadata": {
        "colab": {
          "base_uri": "https://localhost:8080/",
          "height": 136
        },
        "id": "vbYj13A2EWYu",
        "outputId": "dd15196c-d0ad-438b-a6f1-729e5f401bfc"
      },
      "execution_count": null,
      "outputs": [
        {
          "output_type": "error",
          "ename": "SyntaxError",
          "evalue": "ignored",
          "traceback": [
            "\u001b[0;36m  File \u001b[0;32m\"<ipython-input-29-71765079c5ac>\"\u001b[0;36m, line \u001b[0;32m5\u001b[0m\n\u001b[0;31m    .append(5) #JavaScript와는 다르게 매서드 채이닝을 할 때 개행을 하면 안된다.\u001b[0m\n\u001b[0m    ^\u001b[0m\n\u001b[0;31mSyntaxError\u001b[0m\u001b[0;31m:\u001b[0m invalid syntax\n"
          ]
        }
      ]
    },
    {
      "cell_type": "code",
      "source": [
        "s = 'paullab CEO leehojun'\n",
        "''.join(s.split(' ').append('hello'))\n",
        "\n",
        "#''.join(s.split(' ').append('hello'))"
      ],
      "metadata": {
        "colab": {
          "base_uri": "https://localhost:8080/",
          "height": 227
        },
        "id": "9vyRqdFNGAUb",
        "outputId": "9332d7e1-945b-4f50-b864-2d75aef310fc"
      },
      "execution_count": null,
      "outputs": [
        {
          "output_type": "error",
          "ename": "TypeError",
          "evalue": "ignored",
          "traceback": [
            "\u001b[0;31m---------------------------------------------------------------------------\u001b[0m",
            "\u001b[0;31mTypeError\u001b[0m                                 Traceback (most recent call last)",
            "\u001b[0;32m<ipython-input-30-be798ecd0df4>\u001b[0m in \u001b[0;36m<module>\u001b[0;34m\u001b[0m\n\u001b[1;32m      1\u001b[0m \u001b[0ms\u001b[0m \u001b[0;34m=\u001b[0m \u001b[0;34m'paullab CEO leehojun'\u001b[0m\u001b[0;34m\u001b[0m\u001b[0;34m\u001b[0m\u001b[0m\n\u001b[0;32m----> 2\u001b[0;31m \u001b[0;34m''\u001b[0m\u001b[0;34m.\u001b[0m\u001b[0mjoin\u001b[0m\u001b[0;34m(\u001b[0m\u001b[0ms\u001b[0m\u001b[0;34m.\u001b[0m\u001b[0msplit\u001b[0m\u001b[0;34m(\u001b[0m\u001b[0;34m' '\u001b[0m\u001b[0;34m)\u001b[0m\u001b[0;34m.\u001b[0m\u001b[0mappend\u001b[0m\u001b[0;34m(\u001b[0m\u001b[0;34m'hello'\u001b[0m\u001b[0;34m)\u001b[0m\u001b[0;34m)\u001b[0m\u001b[0;34m\u001b[0m\u001b[0;34m\u001b[0m\u001b[0m\n\u001b[0m\u001b[1;32m      3\u001b[0m \u001b[0;34m\u001b[0m\u001b[0m\n\u001b[1;32m      4\u001b[0m \u001b[0;31m#''.join(s.split(' ').append('hello'))\u001b[0m\u001b[0;34m\u001b[0m\u001b[0;34m\u001b[0m\u001b[0;34m\u001b[0m\u001b[0m\n",
            "\u001b[0;31mTypeError\u001b[0m: can only join an iterable"
          ]
        }
      ]
    },
    {
      "cell_type": "code",
      "source": [
        "for i, j in [[10, 20], [ 100, 200], [1000, 2000]]: #언패킹\n",
        "    print(i,j)"
      ],
      "metadata": {
        "colab": {
          "base_uri": "https://localhost:8080/"
        },
        "id": "bMAMZ3ppGdt9",
        "outputId": "3cbff4cc-a647-41c7-fc36-c92230953869"
      },
      "execution_count": null,
      "outputs": [
        {
          "output_type": "stream",
          "name": "stdout",
          "text": [
            "10 20\n",
            "100 200\n",
            "1000 2000\n"
          ]
        }
      ]
    },
    {
      "cell_type": "code",
      "source": [
        "for i in [[10, 20], [ 100, 200], [1000, 2000]]: #i만\n",
        "    print(i)"
      ],
      "metadata": {
        "colab": {
          "base_uri": "https://localhost:8080/"
        },
        "id": "SgSF3VrYG3vh",
        "outputId": "544e7e5b-1245-4796-fc99-45cc4e5dd205"
      },
      "execution_count": null,
      "outputs": [
        {
          "output_type": "stream",
          "name": "stdout",
          "text": [
            "[10, 20]\n",
            "[100, 200]\n",
            "[1000, 2000]\n"
          ]
        }
      ]
    },
    {
      "cell_type": "code",
      "source": [
        "#for문으로 구현한 무한루프, 참고\n",
        "x = [1, 2, 3]\n",
        "for i in x:\n",
        "  x.append(1)\n",
        "  print(i)\n",
        "  break;"
      ],
      "metadata": {
        "colab": {
          "base_uri": "https://localhost:8080/"
        },
        "id": "h-H9qH0QG9V4",
        "outputId": "e5e11de3-564e-4119-a4bc-7c3c99e3bf8a"
      },
      "execution_count": null,
      "outputs": [
        {
          "output_type": "stream",
          "name": "stdout",
          "text": [
            "1\n"
          ]
        }
      ]
    },
    {
      "cell_type": "code",
      "source": [
        "while True: \n",
        "    print('hello world')\n",
        "    break;"
      ],
      "metadata": {
        "colab": {
          "base_uri": "https://localhost:8080/"
        },
        "id": "FFNIRiYuH-cM",
        "outputId": "f182cb2d-8ef8-4a3c-c18d-e7c6bd852e55"
      },
      "execution_count": null,
      "outputs": [
        {
          "output_type": "stream",
          "name": "stdout",
          "text": [
            "hello world\n"
          ]
        }
      ]
    },
    {
      "cell_type": "code",
      "source": [
        "for i in range(2, 10):\n",
        "    for j in range(1, 10):\n",
        "      print(f'{i} X {j} = { i* j}')"
      ],
      "metadata": {
        "colab": {
          "base_uri": "https://localhost:8080/"
        },
        "id": "jOJvywmdIIQT",
        "outputId": "3ba93d80-6c7a-42c2-ccaa-38c1aa2fdf18"
      },
      "execution_count": null,
      "outputs": [
        {
          "output_type": "stream",
          "name": "stdout",
          "text": [
            "2 X 1 = 2\n",
            "2 X 2 = 4\n",
            "2 X 3 = 6\n",
            "2 X 4 = 8\n",
            "2 X 5 = 10\n",
            "2 X 6 = 12\n",
            "2 X 7 = 14\n",
            "2 X 8 = 16\n",
            "2 X 9 = 18\n",
            "3 X 1 = 3\n",
            "3 X 2 = 6\n",
            "3 X 3 = 9\n",
            "3 X 4 = 12\n",
            "3 X 5 = 15\n",
            "3 X 6 = 18\n",
            "3 X 7 = 21\n",
            "3 X 8 = 24\n",
            "3 X 9 = 27\n",
            "4 X 1 = 4\n",
            "4 X 2 = 8\n",
            "4 X 3 = 12\n",
            "4 X 4 = 16\n",
            "4 X 5 = 20\n",
            "4 X 6 = 24\n",
            "4 X 7 = 28\n",
            "4 X 8 = 32\n",
            "4 X 9 = 36\n",
            "5 X 1 = 5\n",
            "5 X 2 = 10\n",
            "5 X 3 = 15\n",
            "5 X 4 = 20\n",
            "5 X 5 = 25\n",
            "5 X 6 = 30\n",
            "5 X 7 = 35\n",
            "5 X 8 = 40\n",
            "5 X 9 = 45\n",
            "6 X 1 = 6\n",
            "6 X 2 = 12\n",
            "6 X 3 = 18\n",
            "6 X 4 = 24\n",
            "6 X 5 = 30\n",
            "6 X 6 = 36\n",
            "6 X 7 = 42\n",
            "6 X 8 = 48\n",
            "6 X 9 = 54\n",
            "7 X 1 = 7\n",
            "7 X 2 = 14\n",
            "7 X 3 = 21\n",
            "7 X 4 = 28\n",
            "7 X 5 = 35\n",
            "7 X 6 = 42\n",
            "7 X 7 = 49\n",
            "7 X 8 = 56\n",
            "7 X 9 = 63\n",
            "8 X 1 = 8\n",
            "8 X 2 = 16\n",
            "8 X 3 = 24\n",
            "8 X 4 = 32\n",
            "8 X 5 = 40\n",
            "8 X 6 = 48\n",
            "8 X 7 = 56\n",
            "8 X 8 = 64\n",
            "8 X 9 = 72\n",
            "9 X 1 = 9\n",
            "9 X 2 = 18\n",
            "9 X 3 = 27\n",
            "9 X 4 = 36\n",
            "9 X 5 = 45\n",
            "9 X 6 = 54\n",
            "9 X 7 = 63\n",
            "9 X 8 = 72\n",
            "9 X 9 = 81\n"
          ]
        }
      ]
    },
    {
      "cell_type": "code",
      "source": [
        "x = 2\n",
        "y = 1\n",
        "while x < 10:\n",
        "    while y <10:\n",
        "      print(f'{x} X {y} = {x * y}')\n",
        "      y += 1\n",
        "    x += 1\n",
        "    y = 1\n"
      ],
      "metadata": {
        "colab": {
          "base_uri": "https://localhost:8080/"
        },
        "id": "dxpCtQxpIaBB",
        "outputId": "a578b9b2-49a4-4097-a1aa-4d2684a18538"
      },
      "execution_count": null,
      "outputs": [
        {
          "output_type": "stream",
          "name": "stdout",
          "text": [
            "2 X 1 = 2\n",
            "2 X 2 = 4\n",
            "2 X 3 = 6\n",
            "2 X 4 = 8\n",
            "2 X 5 = 10\n",
            "2 X 6 = 12\n",
            "2 X 7 = 14\n",
            "2 X 8 = 16\n",
            "2 X 9 = 18\n",
            "3 X 1 = 3\n",
            "3 X 2 = 6\n",
            "3 X 3 = 9\n",
            "3 X 4 = 12\n",
            "3 X 5 = 15\n",
            "3 X 6 = 18\n",
            "3 X 7 = 21\n",
            "3 X 8 = 24\n",
            "3 X 9 = 27\n",
            "4 X 1 = 4\n",
            "4 X 2 = 8\n",
            "4 X 3 = 12\n",
            "4 X 4 = 16\n",
            "4 X 5 = 20\n",
            "4 X 6 = 24\n",
            "4 X 7 = 28\n",
            "4 X 8 = 32\n",
            "4 X 9 = 36\n",
            "5 X 1 = 5\n",
            "5 X 2 = 10\n",
            "5 X 3 = 15\n",
            "5 X 4 = 20\n",
            "5 X 5 = 25\n",
            "5 X 6 = 30\n",
            "5 X 7 = 35\n",
            "5 X 8 = 40\n",
            "5 X 9 = 45\n",
            "6 X 1 = 6\n",
            "6 X 2 = 12\n",
            "6 X 3 = 18\n",
            "6 X 4 = 24\n",
            "6 X 5 = 30\n",
            "6 X 6 = 36\n",
            "6 X 7 = 42\n",
            "6 X 8 = 48\n",
            "6 X 9 = 54\n",
            "7 X 1 = 7\n",
            "7 X 2 = 14\n",
            "7 X 3 = 21\n",
            "7 X 4 = 28\n",
            "7 X 5 = 35\n",
            "7 X 6 = 42\n",
            "7 X 7 = 49\n",
            "7 X 8 = 56\n",
            "7 X 9 = 63\n",
            "8 X 1 = 8\n",
            "8 X 2 = 16\n",
            "8 X 3 = 24\n",
            "8 X 4 = 32\n",
            "8 X 5 = 40\n",
            "8 X 6 = 48\n",
            "8 X 7 = 56\n",
            "8 X 8 = 64\n",
            "8 X 9 = 72\n",
            "9 X 1 = 9\n",
            "9 X 2 = 18\n",
            "9 X 3 = 27\n",
            "9 X 4 = 36\n",
            "9 X 5 = 45\n",
            "9 X 6 = 54\n",
            "9 X 7 = 63\n",
            "9 X 8 = 72\n",
            "9 X 9 = 81\n"
          ]
        }
      ]
    },
    {
      "cell_type": "markdown",
      "source": [
        "#break, continue"
      ],
      "metadata": {
        "id": "B5aT4uu0J-kI"
      }
    },
    {
      "cell_type": "code",
      "source": [
        "x = 2\n",
        "y = 1\n",
        "while x < 10:\n",
        "    while y <10:\n",
        "      print(f'{x} X {y} = {x * y}')\n",
        "      y += 1\n",
        "      if y == 5:\n",
        "        break #전체 반복문을 탈출하는게 아니라 바로 위 반복문을 탈출\n",
        "    x += 1\n",
        "    y = 1"
      ],
      "metadata": {
        "colab": {
          "base_uri": "https://localhost:8080/"
        },
        "id": "B224V_heKFs2",
        "outputId": "bb957cba-c230-46bb-d683-0b5a451815db"
      },
      "execution_count": null,
      "outputs": [
        {
          "output_type": "stream",
          "name": "stdout",
          "text": [
            "2 X 1 = 2\n",
            "2 X 2 = 4\n",
            "2 X 3 = 6\n",
            "2 X 4 = 8\n",
            "3 X 1 = 3\n",
            "3 X 2 = 6\n",
            "3 X 3 = 9\n",
            "3 X 4 = 12\n",
            "4 X 1 = 4\n",
            "4 X 2 = 8\n",
            "4 X 3 = 12\n",
            "4 X 4 = 16\n",
            "5 X 1 = 5\n",
            "5 X 2 = 10\n",
            "5 X 3 = 15\n",
            "5 X 4 = 20\n",
            "6 X 1 = 6\n",
            "6 X 2 = 12\n",
            "6 X 3 = 18\n",
            "6 X 4 = 24\n",
            "7 X 1 = 7\n",
            "7 X 2 = 14\n",
            "7 X 3 = 21\n",
            "7 X 4 = 28\n",
            "8 X 1 = 8\n",
            "8 X 2 = 16\n",
            "8 X 3 = 24\n",
            "8 X 4 = 32\n",
            "9 X 1 = 9\n",
            "9 X 2 = 18\n",
            "9 X 3 = 27\n",
            "9 X 4 = 36\n"
          ]
        }
      ]
    },
    {
      "cell_type": "code",
      "source": [
        "x = 2\n",
        "y = 0\n",
        "while x < 10:\n",
        "    while y <9:\n",
        "      y += 1\n",
        "      if y == 5:\n",
        "        continue #다음 반복문으로 넘어감\n",
        "      print(f'{x} X {y} = {x * y}')\n",
        "    x += 1\n",
        "    y = 1"
      ],
      "metadata": {
        "colab": {
          "base_uri": "https://localhost:8080/"
        },
        "id": "u4lR3f1BLQo2",
        "outputId": "cef73bd5-b601-45f6-a96e-838bf4bd93a7"
      },
      "execution_count": null,
      "outputs": [
        {
          "output_type": "stream",
          "name": "stdout",
          "text": [
            "2 X 1 = 2\n",
            "2 X 2 = 4\n",
            "2 X 3 = 6\n",
            "2 X 4 = 8\n",
            "2 X 6 = 12\n",
            "2 X 7 = 14\n",
            "2 X 8 = 16\n",
            "2 X 9 = 18\n",
            "3 X 2 = 6\n",
            "3 X 3 = 9\n",
            "3 X 4 = 12\n",
            "3 X 6 = 18\n",
            "3 X 7 = 21\n",
            "3 X 8 = 24\n",
            "3 X 9 = 27\n",
            "4 X 2 = 8\n",
            "4 X 3 = 12\n",
            "4 X 4 = 16\n",
            "4 X 6 = 24\n",
            "4 X 7 = 28\n",
            "4 X 8 = 32\n",
            "4 X 9 = 36\n",
            "5 X 2 = 10\n",
            "5 X 3 = 15\n",
            "5 X 4 = 20\n",
            "5 X 6 = 30\n",
            "5 X 7 = 35\n",
            "5 X 8 = 40\n",
            "5 X 9 = 45\n",
            "6 X 2 = 12\n",
            "6 X 3 = 18\n",
            "6 X 4 = 24\n",
            "6 X 6 = 36\n",
            "6 X 7 = 42\n",
            "6 X 8 = 48\n",
            "6 X 9 = 54\n",
            "7 X 2 = 14\n",
            "7 X 3 = 21\n",
            "7 X 4 = 28\n",
            "7 X 6 = 42\n",
            "7 X 7 = 49\n",
            "7 X 8 = 56\n",
            "7 X 9 = 63\n",
            "8 X 2 = 16\n",
            "8 X 3 = 24\n",
            "8 X 4 = 32\n",
            "8 X 6 = 48\n",
            "8 X 7 = 56\n",
            "8 X 8 = 64\n",
            "8 X 9 = 72\n",
            "9 X 2 = 18\n",
            "9 X 3 = 27\n",
            "9 X 4 = 36\n",
            "9 X 6 = 54\n",
            "9 X 7 = 63\n",
            "9 X 8 = 72\n",
            "9 X 9 = 81\n"
          ]
        }
      ]
    },
    {
      "cell_type": "code",
      "source": [
        "0.1 + 0.2  #8가지"
      ],
      "metadata": {
        "colab": {
          "base_uri": "https://localhost:8080/"
        },
        "id": "lv_0luKeL6UG",
        "outputId": "d12645e1-44bf-492c-c1f5-1b00a1a69494"
      },
      "execution_count": null,
      "outputs": [
        {
          "output_type": "execute_result",
          "data": {
            "text/plain": [
              "0.30000000000000004"
            ]
          },
          "metadata": {},
          "execution_count": 51
        }
      ]
    },
    {
      "cell_type": "markdown",
      "source": [
        "#반복문과 재귀함수\n",
        "\n",
        "\n",
        "\n",
        "*   나를 여러번 호출\n",
        "*   항목 추가\n",
        "\n"
      ],
      "metadata": {
        "id": "rJbrkDroPVF4"
      }
    },
    {
      "cell_type": "code",
      "source": [
        "s = 1\n",
        "for i in range(1, 6):  #Bottom - up 방식으로 주로 사용\n",
        "    s *= i\n",
        "s"
      ],
      "metadata": {
        "colab": {
          "base_uri": "https://localhost:8080/"
        },
        "id": "8onHeKGrPWTi",
        "outputId": "87c9393a-bc7e-49f5-f6f1-a6cb62f1f373"
      },
      "execution_count": null,
      "outputs": [
        {
          "output_type": "execute_result",
          "data": {
            "text/plain": [
              "120"
            ]
          },
          "metadata": {},
          "execution_count": 53
        }
      ]
    },
    {
      "cell_type": "code",
      "source": [
        "def f(n): # Top - down 방식으로 주로 사용\n",
        "    if n <= 1:\n",
        "        return 1\n",
        "    return n * f(n-1)\n",
        "    \n",
        "f(5)"
      ],
      "metadata": {
        "colab": {
          "base_uri": "https://localhost:8080/"
        },
        "id": "fHBPfl1-L9Bb",
        "outputId": "332edb46-436f-4c07-e972-70e743bbee3d"
      },
      "execution_count": null,
      "outputs": [
        {
          "output_type": "execute_result",
          "data": {
            "text/plain": [
              "120"
            ]
          },
          "metadata": {},
          "execution_count": 56
        }
      ]
    },
    {
      "cell_type": "code",
      "source": [
        "s = ''\n",
        "for i in 'hello world':\n",
        "   s = i + s   # i 앞으로 s가 붙음\n",
        "s"
      ],
      "metadata": {
        "colab": {
          "base_uri": "https://localhost:8080/",
          "height": 35
        },
        "id": "txZa4Gw4QGOY",
        "outputId": "fbde6497-6d46-44be-9437-0b558f654857"
      },
      "execution_count": null,
      "outputs": [
        {
          "output_type": "execute_result",
          "data": {
            "text/plain": [
              "'dlrow olleh'"
            ],
            "application/vnd.google.colaboratory.intrinsic+json": {
              "type": "string"
            }
          },
          "metadata": {},
          "execution_count": 57
        }
      ]
    },
    {
      "cell_type": "code",
      "source": [
        "#재귀함수\n",
        "def f(s):\n",
        "    if len(s) == 1:\n",
        "      return s\n",
        "    #return s[0] + f(s[1:])\n",
        "    return f(s[1:]) + s[0]   #거꾸로 나열\n",
        "\n",
        "f('hello world')"
      ],
      "metadata": {
        "colab": {
          "base_uri": "https://localhost:8080/",
          "height": 35
        },
        "id": "KtSC8k0XQjfH",
        "outputId": "dd975e44-c954-4e36-8f77-41dc6e910857"
      },
      "execution_count": null,
      "outputs": [
        {
          "output_type": "execute_result",
          "data": {
            "text/plain": [
              "'dlrow olleh'"
            ],
            "application/vnd.google.colaboratory.intrinsic+json": {
              "type": "string"
            }
          },
          "metadata": {},
          "execution_count": 61
        }
      ]
    },
    {
      "cell_type": "code",
      "source": [
        "format(10000000000000000, ',')\n",
        "# 머지 소트, 퀵 소트, 메모라이징 기법, 다이나믹 프로그래밍(재귀랑 관련)\n",
        "\n",
        "#깃허브 알고리즘 work-with-weniv -> 이미지요소 -> 캐릭터카드\n",
        "#퀵 소트와 머지 소트를 카드를 인쇄해서 카드 위치 바꿔가면서 나누면 이해 가능"
      ],
      "metadata": {
        "colab": {
          "base_uri": "https://localhost:8080/",
          "height": 35
        },
        "id": "hAwQNjM0QwOy",
        "outputId": "717a0c83-db34-4f2f-82f2-5161a2c48479"
      },
      "execution_count": null,
      "outputs": [
        {
          "output_type": "execute_result",
          "data": {
            "text/plain": [
              "'10,000,000,000,000,000'"
            ],
            "application/vnd.google.colaboratory.intrinsic+json": {
              "type": "string"
            }
          },
          "metadata": {},
          "execution_count": 64
        }
      ]
    },
    {
      "cell_type": "markdown",
      "source": [
        "#제어문"
      ],
      "metadata": {
        "id": "e1n3mETvSU7E"
      }
    },
    {
      "cell_type": "code",
      "source": [
        "if False:  #단독 사용 가능\n",
        "    print('one')\n",
        "elif True: #단독 사용 불가능\n",
        "    print('two')\n",
        "elif True:\n",
        "    print('three')\n",
        "else: #for, while, if문 함께 조합해서 사용\n",
        "    print('four')"
      ],
      "metadata": {
        "colab": {
          "base_uri": "https://localhost:8080/"
        },
        "id": "JlRYV_AmSTsz",
        "outputId": "656bab38-e141-4ae3-b0cd-0e64d4ff9440"
      },
      "execution_count": null,
      "outputs": [
        {
          "output_type": "stream",
          "name": "stdout",
          "text": [
            "two\n"
          ]
        }
      ]
    },
    {
      "cell_type": "code",
      "source": [
        "for i in range(10):\n",
        "    print(i)\n",
        "    if i == 3:\n",
        "      break\n",
        "else: #정상 종료시 실행\n",
        "    print('hello')"
      ],
      "metadata": {
        "colab": {
          "base_uri": "https://localhost:8080/"
        },
        "id": "WXtO9MP0STwD",
        "outputId": "a26d5356-4ba3-492f-866e-f439c7c959ef"
      },
      "execution_count": null,
      "outputs": [
        {
          "output_type": "stream",
          "name": "stdout",
          "text": [
            "0\n",
            "1\n",
            "2\n",
            "3\n"
          ]
        }
      ]
    },
    {
      "cell_type": "markdown",
      "source": [
        "#함수\n",
        "\n",
        "\n",
        "\n",
        "*   유지보수\n",
        "*   가독성 높이고\n",
        "*   아키텍츠\n",
        "*   코드 재사용 용이\n",
        "\n",
        "\n",
        "\n"
      ],
      "metadata": {
        "id": "Uo4mhxaWTcMz"
      }
    },
    {
      "cell_type": "code",
      "source": [
        "def 함수(one, two):\n",
        "    return one + two\n",
        "\n",
        "함수(10, 10)"
      ],
      "metadata": {
        "colab": {
          "base_uri": "https://localhost:8080/"
        },
        "id": "XEq-yhjETLIa",
        "outputId": "69a5f2d2-185f-43ef-e9e1-5b399f2456fc"
      },
      "execution_count": null,
      "outputs": [
        {
          "output_type": "execute_result",
          "data": {
            "text/plain": [
              "20"
            ]
          },
          "metadata": {},
          "execution_count": 72
        }
      ]
    },
    {
      "cell_type": "code",
      "source": [
        "def 함수(one=10, two=100):\n",
        "    return one + two\n",
        "\n",
        "print(함수())\n",
        "print(함수(100))\n",
        "print(함수(100, 1000))\n",
        "print(함수(one=10000))\n",
        "print(함수(two=10, one = 10000))"
      ],
      "metadata": {
        "colab": {
          "base_uri": "https://localhost:8080/"
        },
        "id": "VUKH9WxzTibZ",
        "outputId": "3ee781f0-c8e9-4fab-b122-f0fdbe4e7406"
      },
      "execution_count": null,
      "outputs": [
        {
          "output_type": "stream",
          "name": "stdout",
          "text": [
            "110\n",
            "200\n",
            "1100\n",
            "10100\n",
            "10010\n"
          ]
        }
      ]
    },
    {
      "cell_type": "code",
      "source": [
        "#type annotation, type hint, 강제성 없음\n",
        "num : int = 3   # : int 견고한 코딩\n",
        "\n",
        "def repeat(message: str, times: int = 2) -> list:  #함수의 반환형은 list\n",
        "    return [message] * times\n",
        "\n",
        "repeat('hello world' , num)"
      ],
      "metadata": {
        "colab": {
          "base_uri": "https://localhost:8080/"
        },
        "id": "l0CdqAB3RrHN",
        "outputId": "7db8d7c0-cf08-4a74-de03-8533c45fc39a"
      },
      "execution_count": null,
      "outputs": [
        {
          "output_type": "execute_result",
          "data": {
            "text/plain": [
              "['hello world', 'hello world', 'hello world']"
            ]
          },
          "metadata": {},
          "execution_count": 77
        }
      ]
    },
    {
      "cell_type": "code",
      "source": [
        "#global, local\n",
        "x = 10  #접근은 가능하지만 수정은 불가능\n",
        "def 함수():\n",
        "    global x #밖에 있는 x를 끄집어 옴\n",
        "    x += 10\n",
        "    return x\n",
        "\n",
        "함수()\n",
        "\n",
        "#캡슐화"
      ],
      "metadata": {
        "colab": {
          "base_uri": "https://localhost:8080/"
        },
        "id": "UvRxR8eiVOJP",
        "outputId": "b6d0f386-29cb-4615-f307-5370337ffbcf"
      },
      "execution_count": null,
      "outputs": [
        {
          "output_type": "execute_result",
          "data": {
            "text/plain": [
              "20"
            ]
          },
          "metadata": {},
          "execution_count": 81
        }
      ]
    },
    {
      "cell_type": "markdown",
      "source": [
        "#zip, map, lambda, eumerate"
      ],
      "metadata": {
        "id": "uMn6-pqlZQVW"
      }
    },
    {
      "cell_type": "code",
      "source": [
        "zip([1, 2, 3, 4], [10, 20, 30 ,40]) #range와 같은 이유로 주소만 반환함"
      ],
      "metadata": {
        "colab": {
          "base_uri": "https://localhost:8080/"
        },
        "id": "QWr6qkY5ZTu4",
        "outputId": "9a6fadb1-3107-424a-a9fc-7a369a704e8e"
      },
      "execution_count": null,
      "outputs": [
        {
          "output_type": "execute_result",
          "data": {
            "text/plain": [
              "<zip at 0x7fd369cbc960>"
            ]
          },
          "metadata": {},
          "execution_count": 82
        }
      ]
    },
    {
      "cell_type": "code",
      "source": [
        "list(zip([1, 2, 3, 4], [10, 20, 30 ,40]))"
      ],
      "metadata": {
        "colab": {
          "base_uri": "https://localhost:8080/"
        },
        "id": "5jsf0rmncZY7",
        "outputId": "eae5a80f-7fe1-41f7-c9f5-f2833a79d84f"
      },
      "execution_count": null,
      "outputs": [
        {
          "output_type": "execute_result",
          "data": {
            "text/plain": [
              "[(1, 10), (2, 20), (3, 30), (4, 40)]"
            ]
          },
          "metadata": {},
          "execution_count": 84
        }
      ]
    },
    {
      "cell_type": "code",
      "source": [
        "list(zip([1, 2, 3, 4], [10, 20, 30 ,40, 50]))"
      ],
      "metadata": {
        "id": "n_vPAbUVcmd3"
      },
      "execution_count": null,
      "outputs": []
    },
    {
      "cell_type": "code",
      "source": [
        "list(zip([1, 2, 3, 4], [10, 20, 30 ,40, 50], (4, 40, 'I')))"
      ],
      "metadata": {
        "colab": {
          "base_uri": "https://localhost:8080/"
        },
        "id": "o7yaVV__cjkV",
        "outputId": "54a7a6fa-01c0-4b66-9ad0-1386c813d2ef"
      },
      "execution_count": null,
      "outputs": [
        {
          "output_type": "execute_result",
          "data": {
            "text/plain": [
              "[(1, 10, 4), (2, 20, 40), (3, 30, 'I')]"
            ]
          },
          "metadata": {},
          "execution_count": 87
        }
      ]
    },
    {
      "cell_type": "code",
      "source": [
        "list(zip([1, 2, 3, 4], [10, 20, 30 ,40, 50], 'hello world'))"
      ],
      "metadata": {
        "colab": {
          "base_uri": "https://localhost:8080/"
        },
        "id": "T9QJ7Bx4c5hZ",
        "outputId": "8f3eac74-7b3b-4ae8-86e4-72a1b6dd7380"
      },
      "execution_count": null,
      "outputs": [
        {
          "output_type": "execute_result",
          "data": {
            "text/plain": [
              "[(1, 10, 'h'), (2, 20, 'e'), (3, 30, 'l'), (4, 40, 'l')]"
            ]
          },
          "metadata": {},
          "execution_count": 88
        }
      ]
    },
    {
      "cell_type": "code",
      "source": [
        "list(zip(range(1,5), [10, 20, 30 ,40, 50]))"
      ],
      "metadata": {
        "colab": {
          "base_uri": "https://localhost:8080/"
        },
        "id": "gAk0f9CscugD",
        "outputId": "ab1ab819-e8e1-4e43-97bf-fc35c11757bd"
      },
      "execution_count": null,
      "outputs": [
        {
          "output_type": "execute_result",
          "data": {
            "text/plain": [
              "[(1, 10), (2, 20), (3, 30), (4, 40)]"
            ]
          },
          "metadata": {},
          "execution_count": 86
        }
      ]
    },
    {
      "cell_type": "code",
      "source": [
        "for i, j in zip(range(1, 5), [10, 20, 30, 40, 50]):\n",
        "  print(i, j)"
      ],
      "metadata": {
        "colab": {
          "base_uri": "https://localhost:8080/"
        },
        "id": "DVRpCq2bc2-0",
        "outputId": "5971d2d2-1ab6-4a82-be8d-ea9bb3e92421"
      },
      "execution_count": null,
      "outputs": [
        {
          "output_type": "stream",
          "name": "stdout",
          "text": [
            "1 10\n",
            "2 20\n",
            "3 30\n",
            "4 40\n"
          ]
        }
      ]
    },
    {
      "cell_type": "code",
      "source": [
        "#zip, map\n",
        "#코드를 재사용하지 않을 때, 이런 코드를 재사용하지 않아 이름이 필요없는 함수를 lambda라 한다.\n",
        "\n",
        "def 함수(x):\n",
        "    return x **2\n",
        "\n",
        "list(map(함수,  [1, 2, 3, 4]))"
      ],
      "metadata": {
        "colab": {
          "base_uri": "https://localhost:8080/"
        },
        "id": "v6JoDBU8dIOa",
        "outputId": "68750a39-cf3e-4c77-ba4e-ca23b0a7b78f"
      },
      "execution_count": null,
      "outputs": [
        {
          "output_type": "execute_result",
          "data": {
            "text/plain": [
              "[1, 4, 9, 16]"
            ]
          },
          "metadata": {},
          "execution_count": 93
        }
      ]
    },
    {
      "cell_type": "code",
      "source": [
        "list(map(lambda x:x**2,  [1, 2, 3, 4]))"
      ],
      "metadata": {
        "colab": {
          "base_uri": "https://localhost:8080/"
        },
        "id": "gN8m81j2deZQ",
        "outputId": "f9618cff-8807-446e-f7c7-60fc830cc223"
      },
      "execution_count": null,
      "outputs": [
        {
          "output_type": "execute_result",
          "data": {
            "text/plain": [
              "[1, 4, 9, 16]"
            ]
          },
          "metadata": {},
          "execution_count": 95
        }
      ]
    },
    {
      "cell_type": "code",
      "source": [
        "함수 = lambda x:x**2 #python 철학에 맞지 않음\n",
        "list(map(함수, [1, 2, 3, 4]))"
      ],
      "metadata": {
        "colab": {
          "base_uri": "https://localhost:8080/"
        },
        "id": "AIdKeYSCeGHA",
        "outputId": "b06b7cea-e74e-41d9-80b7-0624e5e5876f"
      },
      "execution_count": null,
      "outputs": [
        {
          "output_type": "execute_result",
          "data": {
            "text/plain": [
              "[1, 4, 9, 16]"
            ]
          },
          "metadata": {},
          "execution_count": 98
        }
      ]
    },
    {
      "cell_type": "code",
      "source": [
        "x = [10, 20, 30, 40]\n",
        "for i in enumerate(x):\n",
        "    print(i)"
      ],
      "metadata": {
        "colab": {
          "base_uri": "https://localhost:8080/"
        },
        "id": "TyaaWxOceQ1w",
        "outputId": "e2c1ce25-89db-43cf-f0d7-cc29201d2592"
      },
      "execution_count": null,
      "outputs": [
        {
          "output_type": "stream",
          "name": "stdout",
          "text": [
            "(0, 10)\n",
            "(1, 20)\n",
            "(2, 30)\n",
            "(3, 40)\n"
          ]
        }
      ]
    },
    {
      "cell_type": "code",
      "source": [
        "x = [10, 20, 30, 40]\n",
        "for i, data in enumerate(x, 1): #i 값을 1부터 시작하고 싶을 때\n",
        "    print(i, data)"
      ],
      "metadata": {
        "colab": {
          "base_uri": "https://localhost:8080/"
        },
        "id": "33Ws8G5LeXfb",
        "outputId": "070014e8-77ea-4102-913b-6262c0501002"
      },
      "execution_count": null,
      "outputs": [
        {
          "output_type": "stream",
          "name": "stdout",
          "text": [
            "1 10\n",
            "2 20\n",
            "3 30\n",
            "4 40\n"
          ]
        }
      ]
    },
    {
      "cell_type": "markdown",
      "source": [
        "# 리스트 컴프리헨션\n",
        "\n",
        "*   list append와 for문보다 빠르다\n",
        "\n"
      ],
      "metadata": {
        "id": "CXVCZbG3e3fs"
      }
    },
    {
      "cell_type": "code",
      "source": [
        "I = []\n",
        "for i in 'hello world':\n",
        "    I.append(i)\n",
        "I #list의 i"
      ],
      "metadata": {
        "colab": {
          "base_uri": "https://localhost:8080/"
        },
        "id": "PN_L5hdrejrC",
        "outputId": "76d249d0-27ef-4ea3-cf0a-e15a78743fd9"
      },
      "execution_count": null,
      "outputs": [
        {
          "output_type": "execute_result",
          "data": {
            "text/plain": [
              "['h', 'e', 'l', 'l', 'o', ' ', 'w', 'o', 'r', 'l', 'd']"
            ]
          },
          "metadata": {},
          "execution_count": 104
        }
      ]
    },
    {
      "cell_type": "code",
      "source": [
        "[i for i in 'hello world']"
      ],
      "metadata": {
        "colab": {
          "base_uri": "https://localhost:8080/"
        },
        "id": "-DkzL7W_fIoi",
        "outputId": "a560d8d6-6604-403c-c40c-8a98f5d7f6ce"
      },
      "execution_count": null,
      "outputs": [
        {
          "output_type": "execute_result",
          "data": {
            "text/plain": [
              "['h', 'e', 'l', 'l', 'o', ' ', 'w', 'o', 'r', 'l', 'd']"
            ]
          },
          "metadata": {},
          "execution_count": 106
        }
      ]
    },
    {
      "cell_type": "code",
      "source": [
        "[f'{i} X {j} = {i * j}' for i in range(2, 10) for j in range(1, 10)]"
      ],
      "metadata": {
        "colab": {
          "base_uri": "https://localhost:8080/"
        },
        "id": "BzRdLaZsfda4",
        "outputId": "192385e0-c0cb-450d-f62a-bc05f7c812a5"
      },
      "execution_count": null,
      "outputs": [
        {
          "output_type": "execute_result",
          "data": {
            "text/plain": [
              "['2 X 1 = 2',\n",
              " '2 X 2 = 4',\n",
              " '2 X 3 = 6',\n",
              " '2 X 4 = 8',\n",
              " '2 X 5 = 10',\n",
              " '2 X 6 = 12',\n",
              " '2 X 7 = 14',\n",
              " '2 X 8 = 16',\n",
              " '2 X 9 = 18',\n",
              " '3 X 1 = 3',\n",
              " '3 X 2 = 6',\n",
              " '3 X 3 = 9',\n",
              " '3 X 4 = 12',\n",
              " '3 X 5 = 15',\n",
              " '3 X 6 = 18',\n",
              " '3 X 7 = 21',\n",
              " '3 X 8 = 24',\n",
              " '3 X 9 = 27',\n",
              " '4 X 1 = 4',\n",
              " '4 X 2 = 8',\n",
              " '4 X 3 = 12',\n",
              " '4 X 4 = 16',\n",
              " '4 X 5 = 20',\n",
              " '4 X 6 = 24',\n",
              " '4 X 7 = 28',\n",
              " '4 X 8 = 32',\n",
              " '4 X 9 = 36',\n",
              " '5 X 1 = 5',\n",
              " '5 X 2 = 10',\n",
              " '5 X 3 = 15',\n",
              " '5 X 4 = 20',\n",
              " '5 X 5 = 25',\n",
              " '5 X 6 = 30',\n",
              " '5 X 7 = 35',\n",
              " '5 X 8 = 40',\n",
              " '5 X 9 = 45',\n",
              " '6 X 1 = 6',\n",
              " '6 X 2 = 12',\n",
              " '6 X 3 = 18',\n",
              " '6 X 4 = 24',\n",
              " '6 X 5 = 30',\n",
              " '6 X 6 = 36',\n",
              " '6 X 7 = 42',\n",
              " '6 X 8 = 48',\n",
              " '6 X 9 = 54',\n",
              " '7 X 1 = 7',\n",
              " '7 X 2 = 14',\n",
              " '7 X 3 = 21',\n",
              " '7 X 4 = 28',\n",
              " '7 X 5 = 35',\n",
              " '7 X 6 = 42',\n",
              " '7 X 7 = 49',\n",
              " '7 X 8 = 56',\n",
              " '7 X 9 = 63',\n",
              " '8 X 1 = 8',\n",
              " '8 X 2 = 16',\n",
              " '8 X 3 = 24',\n",
              " '8 X 4 = 32',\n",
              " '8 X 5 = 40',\n",
              " '8 X 6 = 48',\n",
              " '8 X 7 = 56',\n",
              " '8 X 8 = 64',\n",
              " '8 X 9 = 72',\n",
              " '9 X 1 = 9',\n",
              " '9 X 2 = 18',\n",
              " '9 X 3 = 27',\n",
              " '9 X 4 = 36',\n",
              " '9 X 5 = 45',\n",
              " '9 X 6 = 54',\n",
              " '9 X 7 = 63',\n",
              " '9 X 8 = 72',\n",
              " '9 X 9 = 81']"
            ]
          },
          "metadata": {},
          "execution_count": 108
        }
      ]
    },
    {
      "cell_type": "markdown",
      "source": [
        "#impor"
      ],
      "metadata": {
        "id": "V57RTpVGf5_H"
      }
    },
    {
      "cell_type": "code",
      "source": [
        "#from import\n",
        "#모듈화\n",
        "#권장\n",
        "\n",
        "import test1\n",
        "\n",
        "print(test1.name)\n",
        "print(test1.age)"
      ],
      "metadata": {
        "colab": {
          "base_uri": "https://localhost:8080/"
        },
        "id": "OUKEgmCdf5Wn",
        "outputId": "680b7fa5-d2c6-4b1e-b9b3-b1bc4b9f8014"
      },
      "execution_count": null,
      "outputs": [
        {
          "output_type": "stream",
          "name": "stdout",
          "text": [
            "jiji\n",
            "10\n"
          ]
        }
      ]
    },
    {
      "cell_type": "code",
      "source": [
        "#from import\n",
        "#모듈화\n",
        "\n",
        "from test1 import name, age\n",
        "\n",
        "print(name)\n",
        "print(age)"
      ],
      "metadata": {
        "colab": {
          "base_uri": "https://localhost:8080/"
        },
        "id": "UlboCqaOgro2",
        "outputId": "2f97e9fe-6258-4cc3-887a-638760ee7744"
      },
      "execution_count": null,
      "outputs": [
        {
          "output_type": "stream",
          "name": "stdout",
          "text": [
            "jiji\n",
            "10\n"
          ]
        }
      ]
    },
    {
      "cell_type": "markdown",
      "source": [
        "#크롤링"
      ],
      "metadata": {
        "id": "g1BnsnfEg_Lp"
      }
    },
    {
      "cell_type": "code",
      "source": [
        "import requests\n",
        "from bs4 import BeautifulSoup\n",
        "\n",
        "response = requests.get('https://ridibooks.com/category/free-books/2200')\n",
        "\n",
        "response.encoding = 'utf-8'\n",
        "html = response.text\n",
        "\n",
        "soup = BeautifulSoup(html, 'html.parser')\n",
        "# print(soup.title)                      # title 태그 출력\n",
        "# print(soup.find('title'))              # title 태그 출력\n",
        "# print(soup.find(id='content'))         # id 가 'content'인 태그 출력\n",
        "\n",
        "# print(soup.find_all('a'))              # 모든 a 태그 출력\n",
        "# print(soup.select('#content'))         # id 가 'content'인 모든 태그 출력 \n",
        "# print(soup.select('.container > a'))   # 'container' class 안에 모든 a 태그 출력\n",
        "data = soup.select('.title_text')\n",
        "data"
      ],
      "metadata": {
        "colab": {
          "base_uri": "https://localhost:8080/"
        },
        "id": "Pwey8Etpk0df",
        "outputId": "74f81776-0b76-4213-a804-e3bd7b34551f"
      },
      "execution_count": null,
      "outputs": [
        {
          "output_type": "execute_result",
          "data": {
            "text/plain": [
              "[<span class=\"title_text js_highlight_helper hidden\">          \n",
              "                         블록체인X비트코인 인사이트 1\n",
              "             </span>,\n",
              " <span class=\"title_text js_highlight_helper hidden\">          \n",
              "                         블록체인X비트코인 인사이트 5\n",
              "             </span>,\n",
              " <span class=\"title_text js_highlight_helper hidden\">          \n",
              "                         알잘딱깔센 JavaScript 비동기 프로그래밍 - 비동기 너 내 동기가 돼라\n",
              "             </span>,\n",
              " <span class=\"title_text js_highlight_helper hidden\">          \n",
              "                         알아서 잘 딱 깔끔하고 센스있게 정리하는 GitHub 핵심 개념\n",
              "             </span>,\n",
              " <span class=\"title_text js_highlight_helper hidden\">          \n",
              "                         알아서 잘 딱 깔끔하고 센스있게 정리하는 TypeScript 핵심 개념\n",
              "             </span>,\n",
              " <span class=\"title_text js_highlight_helper hidden\">          \n",
              "                         C포자를 위한 본격 C 언어 프로그래밍\n",
              "             </span>,\n",
              " <span class=\"title_text js_highlight_helper hidden\">          \n",
              "                         알아서 잘 딱 깔끔하고 센스있게 정리하는 flex &amp; grid - flex가 grid 어렵드나\n",
              "             </span>,\n",
              " <span class=\"title_text js_highlight_helper hidden\">          \n",
              "                         파닥파닥 Flutter\n",
              "             </span>,\n",
              " <span class=\"title_text js_highlight_helper hidden\">          \n",
              "                         알아서 잘 딱 깔끔하고 센스있게 정리하는 JavaScript 핵심 개념\n",
              "             </span>,\n",
              " <span class=\"title_text js_highlight_helper hidden\">          \n",
              "                         [무료특별판] 모바일 UX UI 디자인 강의 with Adobe XD\n",
              "             </span>,\n",
              " <span class=\"title_text js_highlight_helper hidden\">          \n",
              "                         파이썬 기초 문법\n",
              "             </span>,\n",
              " <span class=\"title_text js_highlight_helper hidden\">          \n",
              "                         [무료 특별판] 맛있는 디자인 포토샵&amp;일러스트레이터 CC 2022\n",
              "             </span>,\n",
              " <span class=\"title_text js_highlight_helper hidden\">          \n",
              "                         개정판 | 프리랜서 가이드라인\n",
              "             </span>,\n",
              " <span class=\"title_text js_highlight_helper hidden\">          \n",
              "                         정규표현식 Python으로 톺아보기\n",
              "             </span>,\n",
              " <span class=\"title_text js_highlight_helper hidden\">          \n",
              "                         Do it! HTML+CSS+자바스크립트 웹 표준의 정석 [특별부록]\n",
              "             </span>,\n",
              " <span class=\"title_text js_highlight_helper hidden\">          \n",
              "                         눈떠보니 코딩테스트 전날 With JAVA\n",
              "             </span>,\n",
              " <span class=\"title_text js_highlight_helper hidden\">          \n",
              "                         [무료 특별판] 네이버 블로그&amp;포스트 만들기\n",
              "             </span>,\n",
              " <span class=\"title_text js_highlight_helper hidden\">          \n",
              "                         코어 이더리움 프로그래밍\n",
              "             </span>,\n",
              " <span class=\"title_text js_highlight_helper hidden\">          \n",
              "                         내 손으로 만드는 인스타그램 클론 강의 1권\n",
              "             </span>,\n",
              " <span class=\"title_text js_highlight_helper hidden\">          \n",
              "                         [체험판] 회사에서 바로 통하는 실무 엑셀+파워포인트+워드&amp;한글\n",
              "             </span>]"
            ]
          },
          "metadata": {},
          "execution_count": 134
        }
      ]
    },
    {
      "cell_type": "code",
      "source": [
        "data"
      ],
      "metadata": {
        "colab": {
          "base_uri": "https://localhost:8080/"
        },
        "id": "F-bDrEa_k2Nt",
        "outputId": "76b02569-4fd7-46f8-a03a-01412ed8b434"
      },
      "execution_count": null,
      "outputs": [
        {
          "output_type": "execute_result",
          "data": {
            "text/plain": [
              "[<span class=\"title_text js_highlight_helper hidden\">          \n",
              "                         블록체인X비트코인 인사이트 1\n",
              "             </span>,\n",
              " <span class=\"title_text js_highlight_helper hidden\">          \n",
              "                         블록체인X비트코인 인사이트 5\n",
              "             </span>,\n",
              " <span class=\"title_text js_highlight_helper hidden\">          \n",
              "                         알잘딱깔센 JavaScript 비동기 프로그래밍 - 비동기 너 내 동기가 돼라\n",
              "             </span>,\n",
              " <span class=\"title_text js_highlight_helper hidden\">          \n",
              "                         알아서 잘 딱 깔끔하고 센스있게 정리하는 GitHub 핵심 개념\n",
              "             </span>,\n",
              " <span class=\"title_text js_highlight_helper hidden\">          \n",
              "                         알아서 잘 딱 깔끔하고 센스있게 정리하는 TypeScript 핵심 개념\n",
              "             </span>,\n",
              " <span class=\"title_text js_highlight_helper hidden\">          \n",
              "                         C포자를 위한 본격 C 언어 프로그래밍\n",
              "             </span>,\n",
              " <span class=\"title_text js_highlight_helper hidden\">          \n",
              "                         알아서 잘 딱 깔끔하고 센스있게 정리하는 flex &amp; grid - flex가 grid 어렵드나\n",
              "             </span>,\n",
              " <span class=\"title_text js_highlight_helper hidden\">          \n",
              "                         파닥파닥 Flutter\n",
              "             </span>,\n",
              " <span class=\"title_text js_highlight_helper hidden\">          \n",
              "                         알아서 잘 딱 깔끔하고 센스있게 정리하는 JavaScript 핵심 개념\n",
              "             </span>,\n",
              " <span class=\"title_text js_highlight_helper hidden\">          \n",
              "                         [무료특별판] 모바일 UX UI 디자인 강의 with Adobe XD\n",
              "             </span>,\n",
              " <span class=\"title_text js_highlight_helper hidden\">          \n",
              "                         파이썬 기초 문법\n",
              "             </span>,\n",
              " <span class=\"title_text js_highlight_helper hidden\">          \n",
              "                         [무료 특별판] 맛있는 디자인 포토샵&amp;일러스트레이터 CC 2022\n",
              "             </span>,\n",
              " <span class=\"title_text js_highlight_helper hidden\">          \n",
              "                         개정판 | 프리랜서 가이드라인\n",
              "             </span>,\n",
              " <span class=\"title_text js_highlight_helper hidden\">          \n",
              "                         정규표현식 Python으로 톺아보기\n",
              "             </span>,\n",
              " <span class=\"title_text js_highlight_helper hidden\">          \n",
              "                         Do it! HTML+CSS+자바스크립트 웹 표준의 정석 [특별부록]\n",
              "             </span>,\n",
              " <span class=\"title_text js_highlight_helper hidden\">          \n",
              "                         눈떠보니 코딩테스트 전날 With JAVA\n",
              "             </span>,\n",
              " <span class=\"title_text js_highlight_helper hidden\">          \n",
              "                         [무료 특별판] 네이버 블로그&amp;포스트 만들기\n",
              "             </span>,\n",
              " <span class=\"title_text js_highlight_helper hidden\">          \n",
              "                         코어 이더리움 프로그래밍\n",
              "             </span>,\n",
              " <span class=\"title_text js_highlight_helper hidden\">          \n",
              "                         내 손으로 만드는 인스타그램 클론 강의 1권\n",
              "             </span>,\n",
              " <span class=\"title_text js_highlight_helper hidden\">          \n",
              "                         [체험판] 회사에서 바로 통하는 실무 엑셀+파워포인트+워드&amp;한글\n",
              "             </span>]"
            ]
          },
          "metadata": {},
          "execution_count": 135
        }
      ]
    },
    {
      "cell_type": "code",
      "source": [
        "for i in data:\n",
        "    print(i.text)"
      ],
      "metadata": {
        "colab": {
          "base_uri": "https://localhost:8080/"
        },
        "id": "bdcFlKYbk_YG",
        "outputId": "f143aaee-97db-410e-b6fc-3e2f3819cf43"
      },
      "execution_count": null,
      "outputs": [
        {
          "output_type": "stream",
          "name": "stdout",
          "text": [
            "          \n",
            "                        블록체인X비트코인 인사이트 1\n",
            "            \n",
            "          \n",
            "                        블록체인X비트코인 인사이트 5\n",
            "            \n",
            "          \n",
            "                        알잘딱깔센 JavaScript 비동기 프로그래밍 - 비동기 너 내 동기가 돼라\n",
            "            \n",
            "          \n",
            "                        알아서 잘 딱 깔끔하고 센스있게 정리하는 GitHub 핵심 개념\n",
            "            \n",
            "          \n",
            "                        알아서 잘 딱 깔끔하고 센스있게 정리하는 TypeScript 핵심 개념\n",
            "            \n",
            "          \n",
            "                        C포자를 위한 본격 C 언어 프로그래밍\n",
            "            \n",
            "          \n",
            "                        알아서 잘 딱 깔끔하고 센스있게 정리하는 flex & grid - flex가 grid 어렵드나\n",
            "            \n",
            "          \n",
            "                        파닥파닥 Flutter\n",
            "            \n",
            "          \n",
            "                        알아서 잘 딱 깔끔하고 센스있게 정리하는 JavaScript 핵심 개념\n",
            "            \n",
            "          \n",
            "                        [무료특별판] 모바일 UX UI 디자인 강의 with Adobe XD\n",
            "            \n",
            "          \n",
            "                        파이썬 기초 문법\n",
            "            \n",
            "          \n",
            "                        [무료 특별판] 맛있는 디자인 포토샵&일러스트레이터 CC 2022\n",
            "            \n",
            "          \n",
            "                        개정판 | 프리랜서 가이드라인\n",
            "            \n",
            "          \n",
            "                        정규표현식 Python으로 톺아보기\n",
            "            \n",
            "          \n",
            "                        Do it! HTML+CSS+자바스크립트 웹 표준의 정석 [특별부록]\n",
            "            \n",
            "          \n",
            "                        눈떠보니 코딩테스트 전날 With JAVA\n",
            "            \n",
            "          \n",
            "                        [무료 특별판] 네이버 블로그&포스트 만들기\n",
            "            \n",
            "          \n",
            "                        코어 이더리움 프로그래밍\n",
            "            \n",
            "          \n",
            "                        내 손으로 만드는 인스타그램 클론 강의 1권\n",
            "            \n",
            "          \n",
            "                        [체험판] 회사에서 바로 통하는 실무 엑셀+파워포인트+워드&한글\n",
            "            \n"
          ]
        }
      ]
    },
    {
      "cell_type": "code",
      "source": [
        "for i in data:\n",
        "    print(i.text.strip())"
      ],
      "metadata": {
        "colab": {
          "base_uri": "https://localhost:8080/"
        },
        "id": "ebURsWRW_JBM",
        "outputId": "2d74ead3-a2f6-4baf-c0c4-d91cd69549e2"
      },
      "execution_count": null,
      "outputs": [
        {
          "output_type": "stream",
          "name": "stdout",
          "text": [
            "블록체인X비트코인 인사이트 1\n",
            "블록체인X비트코인 인사이트 5\n",
            "알잘딱깔센 JavaScript 비동기 프로그래밍 - 비동기 너 내 동기가 돼라\n",
            "알아서 잘 딱 깔끔하고 센스있게 정리하는 GitHub 핵심 개념\n",
            "알아서 잘 딱 깔끔하고 센스있게 정리하는 TypeScript 핵심 개념\n",
            "C포자를 위한 본격 C 언어 프로그래밍\n",
            "알아서 잘 딱 깔끔하고 센스있게 정리하는 flex & grid - flex가 grid 어렵드나\n",
            "파닥파닥 Flutter\n",
            "알아서 잘 딱 깔끔하고 센스있게 정리하는 JavaScript 핵심 개념\n",
            "[무료특별판] 모바일 UX UI 디자인 강의 with Adobe XD\n",
            "파이썬 기초 문법\n",
            "[무료 특별판] 맛있는 디자인 포토샵&일러스트레이터 CC 2022\n",
            "개정판 | 프리랜서 가이드라인\n",
            "정규표현식 Python으로 톺아보기\n",
            "Do it! HTML+CSS+자바스크립트 웹 표준의 정석 [특별부록]\n",
            "눈떠보니 코딩테스트 전날 With JAVA\n",
            "[무료 특별판] 네이버 블로그&포스트 만들기\n",
            "코어 이더리움 프로그래밍\n",
            "내 손으로 만드는 인스타그램 클론 강의 1권\n",
            "[체험판] 회사에서 바로 통하는 실무 엑셀+파워포인트+워드&한글\n"
          ]
        }
      ]
    },
    {
      "cell_type": "code",
      "source": [
        "import requests\n",
        "from bs4 import BeautifulSoup\n",
        "\n",
        "response = requests.get('https://ridibooks.com/category/free-books/2200')\n",
        "\n",
        "response.encoding = 'utf-8'\n",
        "html = response.text\n",
        "\n",
        "soup = BeautifulSoup(html, 'html.parser')\n",
        "\n",
        "data = soup.select('.title_text')\n",
        "\n",
        "\n",
        "new_data = []\n",
        "\n",
        "for i, data in enumerate(data, 1 ):\n",
        "    new_data.append([i, data.text.strip()])"
      ],
      "metadata": {
        "id": "RtP5oj_pAG2x"
      },
      "execution_count": null,
      "outputs": []
    },
    {
      "cell_type": "code",
      "source": [
        "new_data"
      ],
      "metadata": {
        "colab": {
          "base_uri": "https://localhost:8080/"
        },
        "id": "RgV8VLSzAQW3",
        "outputId": "c2e1fcca-5db1-466d-8a80-b1b7b6d0b0f9"
      },
      "execution_count": null,
      "outputs": [
        {
          "output_type": "execute_result",
          "data": {
            "text/plain": [
              "[[1, '블록체인X비트코인 인사이트 1'],\n",
              " [2, '블록체인X비트코인 인사이트 5'],\n",
              " [3, '알잘딱깔센 JavaScript 비동기 프로그래밍 - 비동기 너 내 동기가 돼라'],\n",
              " [4, '알아서 잘 딱 깔끔하고 센스있게 정리하는 GitHub 핵심 개념'],\n",
              " [5, '알아서 잘 딱 깔끔하고 센스있게 정리하는 TypeScript 핵심 개념'],\n",
              " [6, 'C포자를 위한 본격 C 언어 프로그래밍'],\n",
              " [7, '알아서 잘 딱 깔끔하고 센스있게 정리하는 flex & grid - flex가 grid 어렵드나'],\n",
              " [8, '파닥파닥 Flutter'],\n",
              " [9, '알아서 잘 딱 깔끔하고 센스있게 정리하는 JavaScript 핵심 개념'],\n",
              " [10, '[무료특별판] 모바일 UX UI 디자인 강의 with Adobe XD'],\n",
              " [11, '파이썬 기초 문법'],\n",
              " [12, '[무료 특별판] 맛있는 디자인 포토샵&일러스트레이터 CC 2022'],\n",
              " [13, '개정판 | 프리랜서 가이드라인'],\n",
              " [14, '정규표현식 Python으로 톺아보기'],\n",
              " [15, 'Do it! HTML+CSS+자바스크립트 웹 표준의 정석 [특별부록]'],\n",
              " [16, '눈떠보니 코딩테스트 전날 With JAVA'],\n",
              " [17, '[무료 특별판] 네이버 블로그&포스트 만들기'],\n",
              " [18, '코어 이더리움 프로그래밍'],\n",
              " [19, '내 손으로 만드는 인스타그램 클론 강의 1권'],\n",
              " [20, '[체험판] 회사에서 바로 통하는 실무 엑셀+파워포인트+워드&한글']]"
            ]
          },
          "metadata": {},
          "execution_count": 148
        }
      ]
    },
    {
      "cell_type": "code",
      "source": [
        "import requests\n",
        "from bs4 import BeautifulSoup\n",
        "\n",
        "response = requests.get('https://search.naver.com/search.naver?sm=tab_hty.top&where=nexearch&query=%EC%98%81%ED%99%94+%EC%88%9C%EC%9C%84&oquery=%EC%98%81%ED%99%94%EC%98%88%EB%A7%A4&tqi=hweOydp0J14ssC5CnoZssssss%2Fl-255086')\n",
        "\n",
        "response.encoding = 'utf-8'\n",
        "html = response.text\n",
        "\n",
        "soup = BeautifulSoup(html, 'html.parser')\n",
        "\n",
        "data = soup.select('.name')\n",
        "\n",
        "\n",
        "new_data1 = []\n",
        "\n",
        "for i, data in enumerate(data, 1 ):\n",
        "    new_data.append([i, data.text.strip()])"
      ],
      "metadata": {
        "id": "3e1BfWhuBFT5"
      },
      "execution_count": null,
      "outputs": []
    },
    {
      "cell_type": "code",
      "source": [
        "new_data1"
      ],
      "metadata": {
        "colab": {
          "base_uri": "https://localhost:8080/"
        },
        "id": "PDK1jZoZEyZa",
        "outputId": "d9a71ba6-fc3c-4265-a346-0aab26a1025f"
      },
      "execution_count": null,
      "outputs": [
        {
          "output_type": "execute_result",
          "data": {
            "text/plain": [
              "[]"
            ]
          },
          "metadata": {},
          "execution_count": 160
        }
      ]
    },
    {
      "cell_type": "code",
      "source": [
        "import requests\n",
        "from bs4 import BeautifulSoup\n",
        "\n",
        "response = requests.get('https://search.naver.com/search.naver?where=nexearch&sm=top_hty&fbm=1&ie=utf8&query=%EC%B5%9C%EC%8B%A0%EC%9D%8C%EC%95%85')\n",
        "\n",
        "response.encoding = 'utf-8'\n",
        "html = response.text\n",
        "\n",
        "soup = BeautifulSoup(html, 'html.parser')\n",
        "\n",
        "data = soup.select('.tit_area')\n",
        "#원하는 정보 우클릭해서 검사\n",
        "\n",
        "\n",
        "new_data = []\n",
        "\n",
        "for i, data in enumerate(data, 1 ):\n",
        "    new_data.append([i, data.text.strip()])"
      ],
      "metadata": {
        "id": "BqbelF5dEJxp"
      },
      "execution_count": null,
      "outputs": []
    },
    {
      "cell_type": "code",
      "source": [
        "new_data"
      ],
      "metadata": {
        "colab": {
          "base_uri": "https://localhost:8080/"
        },
        "id": "r_56MtXFEdMK",
        "outputId": "22594d70-5d36-4711-ace9-79fb3c8e54f9"
      },
      "execution_count": null,
      "outputs": [
        {
          "output_type": "execute_result",
          "data": {
            "text/plain": [
              "[[1, 'After LIKE'],\n",
              " [2, 'My Satisfaction'],\n",
              " [3, 'Your Song'],\n",
              " [4, '비 내리던 그날처럼 (Feat. 윤명)'],\n",
              " [5, 'Bite'],\n",
              " [6, '놀이'],\n",
              " [7, 'WHISPER'],\n",
              " [8, '온통 그대뿐인 나죠'],\n",
              " [9, 'FOREVER 1'],\n",
              " [10, '청소년 유해매체물  Nocturnal animals (Feat. Zior Park)']]"
            ]
          },
          "metadata": {},
          "execution_count": 163
        }
      ]
    },
    {
      "cell_type": "markdown",
      "source": [
        "#클래스 class\n",
        "\n",
        "\n",
        "*   클래스는 찍어내는 틀(붕어빵 찍는 틀. 생산품을 만들어내는 공장)\n",
        "    *   클래스 안에 변수 : 멤버\n",
        "    *   클래스 안에 함수 : 메서드\n",
        "\n",
        "*   인스턴스는 찍어져 나온 결과물\n",
        "\n"
      ],
      "metadata": {
        "id": "9AO1ut_dLKtl"
      }
    },
    {
      "cell_type": "code",
      "source": [
        "x = 3\n",
        "print(type(x))"
      ],
      "metadata": {
        "colab": {
          "base_uri": "https://localhost:8080/"
        },
        "id": "wmCCXHDsLvxU",
        "outputId": "5f0f86b2-c5bf-49c8-e578-99752f5b1032"
      },
      "execution_count": null,
      "outputs": [
        {
          "output_type": "stream",
          "name": "stdout",
          "text": [
            "<class 'int'>\n"
          ]
        }
      ]
    },
    {
      "cell_type": "code",
      "source": [
        "x + x"
      ],
      "metadata": {
        "colab": {
          "base_uri": "https://localhost:8080/"
        },
        "id": "3CaU-ZBWMXeq",
        "outputId": "d3bad225-87fd-4915-f956-0220ea7abc8b"
      },
      "execution_count": null,
      "outputs": [
        {
          "output_type": "execute_result",
          "data": {
            "text/plain": [
              "6"
            ]
          },
          "metadata": {},
          "execution_count": 167
        }
      ]
    },
    {
      "cell_type": "code",
      "source": [
        "class Car:\n",
        "    all_car = []  #클래스 변수\n",
        "    def __init__(self, name):\n",
        "        self.instance_name = name  # 0인스턴스 변수\n",
        "        self.all_car.append(self.instance_name)\n",
        "        print('인스턴스 생성!')\n",
        "\n",
        "    def __str__(self):  #매직메서드 : 해당 자료형에 속성\n",
        "      #return 'hello world'\n",
        "      return self.instance_name #붕붕카가 나옴\n",
        "\n",
        "    maxSpeed = 300\n",
        "    maxPeople = 5\n",
        "\n",
        "    def start(self):\n",
        "      print('출발합니다.')\n",
        "\n",
        "    def stop(self):\n",
        "      print('멈췄습니다.')\n",
        "\n",
        "\n",
        "a = Car('붕붕카')\n",
        "b = Car('카봇')\n",
        "c = Car('카')\n",
        "\n",
        "a.maxSpeed\n",
        "a.start()\n",
        "print(a)\n",
        "a.all_car"
      ],
      "metadata": {
        "colab": {
          "base_uri": "https://localhost:8080/"
        },
        "id": "r7uPH288EfNF",
        "outputId": "f8093933-01b6-47c3-c64b-52ae84f4b571"
      },
      "execution_count": null,
      "outputs": [
        {
          "output_type": "stream",
          "name": "stdout",
          "text": [
            "인스턴스 생성!\n",
            "인스턴스 생성!\n",
            "인스턴스 생성!\n",
            "출발합니다.\n",
            "붕붕카\n"
          ]
        },
        {
          "output_type": "execute_result",
          "data": {
            "text/plain": [
              "['붕붕카', '카봇', '카']"
            ]
          },
          "metadata": {},
          "execution_count": 191
        }
      ]
    },
    {
      "cell_type": "code",
      "source": [
        "type(a), dir(a)"
      ],
      "metadata": {
        "colab": {
          "base_uri": "https://localhost:8080/"
        },
        "id": "MMOaj7M5OUmp",
        "outputId": "556c6950-b901-479e-eff3-e9325dd5b404"
      },
      "execution_count": null,
      "outputs": [
        {
          "output_type": "execute_result",
          "data": {
            "text/plain": [
              "(__main__.Car,\n",
              " ['__class__',\n",
              "  '__delattr__',\n",
              "  '__dict__',\n",
              "  '__dir__',\n",
              "  '__doc__',\n",
              "  '__eq__',\n",
              "  '__format__',\n",
              "  '__ge__',\n",
              "  '__getattribute__',\n",
              "  '__gt__',\n",
              "  '__hash__',\n",
              "  '__init__',\n",
              "  '__init_subclass__',\n",
              "  '__le__',\n",
              "  '__lt__',\n",
              "  '__module__',\n",
              "  '__ne__',\n",
              "  '__new__',\n",
              "  '__reduce__',\n",
              "  '__reduce_ex__',\n",
              "  '__repr__',\n",
              "  '__setattr__',\n",
              "  '__sizeof__',\n",
              "  '__str__',\n",
              "  '__subclasshook__',\n",
              "  '__weakref__',\n",
              "  'maxPeople',\n",
              "  'maxSpeed',\n",
              "  'start',\n",
              "  'stop'])"
            ]
          },
          "metadata": {},
          "execution_count": 176
        }
      ]
    },
    {
      "cell_type": "code",
      "source": [
        "class Car:\n",
        "    maxSpeed = 300\n",
        "    maxPeople = 5\n",
        "    test = 100\n",
        "\n",
        "    def start(self):\n",
        "        print('출발합니다.')\n",
        "    def stop(self):\n",
        "        print('멈췄습니다.')\n",
        "\n",
        "class Battery:\n",
        "    battery = 100\n",
        "    batteryKM  = 300\n",
        "    test = 200\n",
        "\n",
        "class HybridCar(Car):\n",
        "    def 충전(self):\n",
        "        print('충전합니다!')\n",
        "\n",
        "a = HybridCar()\n",
        "b = HybridCar()\n",
        "c = HybridCar()\n",
        "a.start()\n",
        "a.battery\n",
        "a.test"
      ],
      "metadata": {
        "colab": {
          "base_uri": "https://localhost:8080/",
          "height": 245
        },
        "id": "baK9IiBnOW9f",
        "outputId": "b6520a81-bcee-4663-85a2-3dd7a4f3d11a"
      },
      "execution_count": null,
      "outputs": [
        {
          "output_type": "stream",
          "name": "stdout",
          "text": [
            "출발합니다.\n"
          ]
        },
        {
          "output_type": "error",
          "ename": "AttributeError",
          "evalue": "ignored",
          "traceback": [
            "\u001b[0;31m---------------------------------------------------------------------------\u001b[0m",
            "\u001b[0;31mAttributeError\u001b[0m                            Traceback (most recent call last)",
            "\u001b[0;32m<ipython-input-199-7cb62a4edcf3>\u001b[0m in \u001b[0;36m<module>\u001b[0;34m\u001b[0m\n\u001b[1;32m     22\u001b[0m \u001b[0mc\u001b[0m \u001b[0;34m=\u001b[0m \u001b[0mHybridCar\u001b[0m\u001b[0;34m(\u001b[0m\u001b[0;34m)\u001b[0m\u001b[0;34m\u001b[0m\u001b[0;34m\u001b[0m\u001b[0m\n\u001b[1;32m     23\u001b[0m \u001b[0ma\u001b[0m\u001b[0;34m.\u001b[0m\u001b[0mstart\u001b[0m\u001b[0;34m(\u001b[0m\u001b[0;34m)\u001b[0m\u001b[0;34m\u001b[0m\u001b[0;34m\u001b[0m\u001b[0m\n\u001b[0;32m---> 24\u001b[0;31m \u001b[0ma\u001b[0m\u001b[0;34m.\u001b[0m\u001b[0mbattery\u001b[0m\u001b[0;34m\u001b[0m\u001b[0;34m\u001b[0m\u001b[0m\n\u001b[0m\u001b[1;32m     25\u001b[0m \u001b[0ma\u001b[0m\u001b[0;34m.\u001b[0m\u001b[0mtest\u001b[0m\u001b[0;34m\u001b[0m\u001b[0;34m\u001b[0m\u001b[0m\n",
            "\u001b[0;31mAttributeError\u001b[0m: 'HybridCar' object has no attribute 'battery'"
          ]
        }
      ]
    },
    {
      "cell_type": "code",
      "source": [
        "Car.__mro__\n",
        "HybridCar.__mro__[1].test"
      ],
      "metadata": {
        "colab": {
          "base_uri": "https://localhost:8080/"
        },
        "id": "ttRAZSGFYMmI",
        "outputId": "ba9b4c4d-b065-4e3d-a180-4a36c2d283db"
      },
      "execution_count": null,
      "outputs": [
        {
          "output_type": "execute_result",
          "data": {
            "text/plain": [
              "100"
            ]
          },
          "metadata": {},
          "execution_count": 200
        }
      ]
    },
    {
      "cell_type": "markdown",
      "source": [
        "#간단한 문제풀이"
      ],
      "metadata": {
        "id": "4jkkp5V7i8oD"
      }
    },
    {
      "cell_type": "code",
      "source": [
        "'hello' or 'world'"
      ],
      "metadata": {
        "colab": {
          "base_uri": "https://localhost:8080/",
          "height": 35
        },
        "id": "2qNPDteHjgHF",
        "outputId": "79ac4c08-ae3f-4c4d-c31d-bef4a1935d80"
      },
      "execution_count": null,
      "outputs": [
        {
          "output_type": "execute_result",
          "data": {
            "text/plain": [
              "'hello'"
            ],
            "application/vnd.google.colaboratory.intrinsic+json": {
              "type": "string"
            }
          },
          "metadata": {},
          "execution_count": 202
        }
      ]
    },
    {
      "cell_type": "code",
      "source": [
        "'' or 'world'"
      ],
      "metadata": {
        "colab": {
          "base_uri": "https://localhost:8080/",
          "height": 35
        },
        "id": "m5l2jsigjjAi",
        "outputId": "93636b74-e238-4572-f0e0-f80f0fe46d95"
      },
      "execution_count": null,
      "outputs": [
        {
          "output_type": "execute_result",
          "data": {
            "text/plain": [
              "'world'"
            ],
            "application/vnd.google.colaboratory.intrinsic+json": {
              "type": "string"
            }
          },
          "metadata": {},
          "execution_count": 203
        }
      ]
    },
    {
      "cell_type": "code",
      "source": [
        "9 or 3"
      ],
      "metadata": {
        "colab": {
          "base_uri": "https://localhost:8080/"
        },
        "id": "kEEJlvvYjlAQ",
        "outputId": "65099273-22e5-4536-dcc8-3bf2302d0bc6"
      },
      "execution_count": null,
      "outputs": [
        {
          "output_type": "execute_result",
          "data": {
            "text/plain": [
              "9"
            ]
          },
          "metadata": {},
          "execution_count": 204
        }
      ]
    },
    {
      "cell_type": "code",
      "source": [
        "'' and 'world'"
      ],
      "metadata": {
        "colab": {
          "base_uri": "https://localhost:8080/",
          "height": 35
        },
        "id": "4p8AqPyZjmck",
        "outputId": "9f01efb9-e29d-4f0a-eff5-4515f1b950e9"
      },
      "execution_count": null,
      "outputs": [
        {
          "output_type": "execute_result",
          "data": {
            "text/plain": [
              "''"
            ],
            "application/vnd.google.colaboratory.intrinsic+json": {
              "type": "string"
            }
          },
          "metadata": {},
          "execution_count": 206
        }
      ]
    },
    {
      "cell_type": "code",
      "source": [
        "9 & 3  \n",
        "\n",
        "#and 연산\n",
        "#1001\n",
        "#0011\n",
        "#0001"
      ],
      "metadata": {
        "colab": {
          "base_uri": "https://localhost:8080/"
        },
        "id": "hRmqQR7mj0Ph",
        "outputId": "d5ca73a7-aa92-4724-d19b-f6a6dc3025b5"
      },
      "execution_count": null,
      "outputs": [
        {
          "output_type": "execute_result",
          "data": {
            "text/plain": [
              "1"
            ]
          },
          "metadata": {},
          "execution_count": 210
        }
      ]
    },
    {
      "cell_type": "code",
      "source": [
        "9 | 3\n",
        "\n",
        "#비트 단위 or 연산\n",
        "#1001\n",
        "#0011\n",
        "\n",
        "#1011"
      ],
      "metadata": {
        "colab": {
          "base_uri": "https://localhost:8080/"
        },
        "id": "luDjM7Vgj16l",
        "outputId": "2c9d804a-d368-4e52-d0f9-2e711c776af5"
      },
      "execution_count": null,
      "outputs": [
        {
          "output_type": "execute_result",
          "data": {
            "text/plain": [
              "11"
            ]
          },
          "metadata": {},
          "execution_count": 209
        }
      ]
    },
    {
      "cell_type": "code",
      "source": [],
      "metadata": {
        "id": "IW38GJdBj3GN"
      },
      "execution_count": null,
      "outputs": []
    },
    {
      "cell_type": "code",
      "source": [
        "a = [9, 20, 28, 18, 11]\n",
        "b = [30, 1, 21, 17, 28]\n",
        "\n",
        "for i, j in zip(a, b):\n",
        "    i | j\n",
        "    #print(bin(i | j)[2:].replace('1', \"#\").replace('0', ' '))"
      ],
      "metadata": {
        "id": "G_G-0kW2i-yu"
      },
      "execution_count": null,
      "outputs": []
    },
    {
      "cell_type": "code",
      "source": [
        "'123'.zfill(10)"
      ],
      "metadata": {
        "colab": {
          "base_uri": "https://localhost:8080/",
          "height": 35
        },
        "id": "D5tObq3ilPoh",
        "outputId": "53f54f97-e254-42a5-ece9-2ec255737067"
      },
      "execution_count": null,
      "outputs": [
        {
          "output_type": "execute_result",
          "data": {
            "text/plain": [
              "'0000000123'"
            ],
            "application/vnd.google.colaboratory.intrinsic+json": {
              "type": "string"
            }
          },
          "metadata": {},
          "execution_count": 217
        }
      ]
    },
    {
      "cell_type": "code",
      "source": [
        "#https://school.programmers.co.kr/learn/courses/30/lessons/17681?language=python3\n",
        "\n",
        "\n",
        "# def solution(n, arr1, arr2):\n",
        "#     answer = []\n",
        "#     for i, j in zip(arr1, arr2):\n",
        "#         answer.append(bin(i | j)[2:].zfill(n).replace('1', \"#\").replace('0', ' '))\n",
        "#     return answer\n",
        "\n",
        "\n",
        "a = [9, 20, 28, 18, 11]\n",
        "b = [30, 1, 21, 17, 28]\n",
        "\n",
        "for i, j in zip(a, b):\n",
        "    print(bin(i | j)[2:].zfill(5).replace('1', \"#\").replace('0', ' '))"
      ],
      "metadata": {
        "colab": {
          "base_uri": "https://localhost:8080/"
        },
        "id": "9F4LUMx-lLwV",
        "outputId": "5b1ab714-b06e-46a2-f3f4-545a28590e15"
      },
      "execution_count": null,
      "outputs": [
        {
          "output_type": "stream",
          "name": "stdout",
          "text": [
            "#####\n",
            "# # #\n",
            "### #\n",
            "#  ##\n",
            "#####\n"
          ]
        }
      ]
    },
    {
      "cell_type": "code",
      "source": [],
      "metadata": {
        "id": "FnLg1zFQmg2M"
      },
      "execution_count": null,
      "outputs": []
    },
    {
      "cell_type": "markdown",
      "source": [
        "#메소드"
      ],
      "metadata": {
        "id": "CwSthDP_hdr_"
      }
    },
    {
      "cell_type": "code",
      "source": [
        "abs() #\n",
        "ascii()\n",
        "bin() #2진수\n",
        "bool()\n",
        "chr()\n",
        "complex()\n",
        "dict()\n",
        "dir()\n",
        "enumerate()\n",
        "float()\n",
        "format()\n",
        "hex()#16진수\n",
        "id()\n",
        "int()\n",
        "len()\n",
        "list()\n",
        "map()\n",
        "max()\n",
        "min()\n",
        "oct() #8진수\n",
        "pow()\n",
        "print()\n",
        "tuple()\n",
        "type()\n",
        "range()\n",
        "set()\n",
        "sorted()\n",
        "str()\n",
        "sum()\n",
        "zip()\n"
      ],
      "metadata": {
        "colab": {
          "base_uri": "https://localhost:8080/",
          "height": 245
        },
        "id": "uMfE7ImgNn07",
        "outputId": "73ad3f1e-0c9c-433e-97a1-7e1235ce5796"
      },
      "execution_count": null,
      "outputs": [
        {
          "output_type": "error",
          "ename": "TypeError",
          "evalue": "ignored",
          "traceback": [
            "\u001b[0;31m---------------------------------------------------------------------------\u001b[0m",
            "\u001b[0;31mTypeError\u001b[0m                                 Traceback (most recent call last)",
            "\u001b[0;32m<ipython-input-96-e134ba294cbb>\u001b[0m in \u001b[0;36m<module>\u001b[0;34m\u001b[0m\n\u001b[0;32m----> 1\u001b[0;31m \u001b[0mabs\u001b[0m\u001b[0;34m(\u001b[0m\u001b[0;34m)\u001b[0m \u001b[0;31m#\u001b[0m\u001b[0;34m\u001b[0m\u001b[0;34m\u001b[0m\u001b[0m\n\u001b[0m\u001b[1;32m      2\u001b[0m \u001b[0mascii\u001b[0m\u001b[0;34m(\u001b[0m\u001b[0;34m)\u001b[0m\u001b[0;34m\u001b[0m\u001b[0;34m\u001b[0m\u001b[0m\n\u001b[1;32m      3\u001b[0m \u001b[0mbin\u001b[0m\u001b[0;34m(\u001b[0m\u001b[0;34m)\u001b[0m\u001b[0;34m\u001b[0m\u001b[0;34m\u001b[0m\u001b[0m\n\u001b[1;32m      4\u001b[0m \u001b[0mbool\u001b[0m\u001b[0;34m(\u001b[0m\u001b[0;34m)\u001b[0m\u001b[0;34m\u001b[0m\u001b[0;34m\u001b[0m\u001b[0m\n\u001b[1;32m      5\u001b[0m \u001b[0mchr\u001b[0m\u001b[0;34m(\u001b[0m\u001b[0;34m)\u001b[0m\u001b[0;34m\u001b[0m\u001b[0;34m\u001b[0m\u001b[0m\n",
            "\u001b[0;31mTypeError\u001b[0m: abs() takes exactly one argument (0 given)"
          ]
        }
      ]
    }
  ]
}